{
 "cells": [
  {
   "cell_type": "markdown",
   "metadata": {
    "extensions": {
     "jupyter_dashboards": {
      "version": 1,
      "views": {
       "grid_default": {
        "col": 4,
        "height": 4,
        "hidden": false,
        "row": 0,
        "width": 4
       },
       "report_default": {
        "hidden": false
       }
      }
     }
    }
   },
   "source": [
    "# Introduction : comprendre le dataset avec les statistiques descriptives"
   ]
  },
  {
   "cell_type": "markdown",
   "metadata": {
    "extensions": {
     "jupyter_dashboards": {
      "version": 1,
      "views": {
       "grid_default": {
        "col": 8,
        "height": 4,
        "hidden": false,
        "row": 0,
        "width": 4
       },
       "report_default": {
        "hidden": false
       }
      }
     }
    }
   },
   "source": [
    "**Pourquoi faire de l'analyse descriptive ?**\n",
    "\n",
    "Objectif = transformer les observations brutes en informations <br/>\n",
    "=> Les statistiques sont une collection d'outils que vous pouvez utiliser pour résumer et organiser votre ensemble de données afin qu'il puisse être facilement compris (aide à la prise de décision)\n",
    "\n",
    "**Statistiques descriptives vs statistiques inférentielles**\n",
    "\n",
    "- Statistiques descriptives = description et interprétation des données (sans tenter de faire des inférences ; extrapoler les résultats de l'échantillon à l'ensemble de la population)\n",
    "- Statistiques inférentielles = décisions et prédictions basées sur la probabilité\n",
    "\n",
    "**Réferences**\n",
    "- https://towardsdatascience.com/intro-to-descriptive-statistics-252e9c464ac9\n",
    "- https://medium.com/@himanshuxd/the-guide-to-rigorous-descriptive-statistics-for-machine-learning-and-data-science-9209f88e4363"
   ]
  },
  {
   "cell_type": "markdown",
   "metadata": {},
   "source": [
    "## Vocabulaire"
   ]
  },
  {
   "cell_type": "markdown",
   "metadata": {},
   "source": [
    "##### Définitions des termes courants de machine learning :\n",
    "https://ml-cheatsheet.readthedocs.io/en/latest/glossary.html\n",
    "\n",
    "Les principaux à retenir pour le moment :\n",
    "\n",
    "- Observation / individu = point de données ou ligne dans un jeu de données\n",
    "- Attribut / attribut = qualité décrivant une observation (par exemple couleur, taille, poids) (en-têtes de colonnes)\n",
    "- Feature / variable = un attribut + sa valeur (la couleur est un attribut, la \"couleur bleue\" est une caractéristique)\n",
    "- Dimension / taille = nombre d'entités dans le jeu de données"
   ]
  },
  {
   "cell_type": "markdown",
   "metadata": {},
   "source": [
    "## Types de données / Data types"
   ]
  },
  {
   "cell_type": "markdown",
   "metadata": {},
   "source": [
    "Types de données les plus courantes :\n",
    "- variables quantitatives : discrètes ou continues\n",
    "=> Les données quantitatives sont dénombrables ou mesurables, relatives aux nombres.\n",
    "- variables qualitatives : ordonnées ou non\n",
    "=> Les données qualitatives sont descriptives, relatives à la langue.\n",
    "\n",
    "https://towardsdatascience.com/data-types-in-statistics-347e152e8bee<br/>\n",
    "https://careerfoundry.com/en/blog/data-analytics/difference-between-quantitative-and-qualitative-data/"
   ]
  },
  {
   "cell_type": "markdown",
   "metadata": {},
   "source": [
    "## Index avec Pandas"
   ]
  },
  {
   "cell_type": "markdown",
   "metadata": {},
   "source": [
    "Vous allez avoir besoin de manipuler les index de Pandas par la suite ! <br/>\n",
    "\n",
    "\n",
    "https://pandas.pydata.org/pandas-docs/stable/user_guide/indexing.html<br/>\n",
    "https://pandas.pydata.org/Pandas_Cheat_Sheet.pdf\n",
    "\n",
    "Quelques petits tips :<br/>\n",
    "- Série: s.loc[indexer]; s[index_label]\n",
    "- DataFrame: df.loc[row_indexer,column_indexer]; df[colname]\n",
    "- You may access an index on a Series or column on a DataFrame directly as an attribute (df.A)\n",
    "- slicing: s[:5], s[:-1], df.loc['20130102':'20130104'], df1.loc['d':, 'A':'C']"
   ]
  },
  {
   "cell_type": "markdown",
   "metadata": {},
   "source": [
    "# Statistiques univariées"
   ]
  },
  {
   "cell_type": "markdown",
   "metadata": {},
   "source": [
    "Statistiques univariées : lorsqu'on analyse une seule variable à la fois"
   ]
  },
  {
   "cell_type": "markdown",
   "metadata": {},
   "source": [
    "Lorsque vous décrouvrez un nouveau jeu de données, différentes étapes sont à réaliser dans un premier temps afin de se faire une idée des données :\n",
    "- importer vos données dans un dataframe<br/>\n",
    "(par exemple : https://pandas.pydata.org/pandas-docs/stable/reference/api/pandas.read_csv.html)\n",
    "- regarder les premières lignes de votre dataframe afin d'avoir une idée de ce à quoi ressemble les données<br/> (https://pandas.pydata.org/pandas-docs/stable/reference/api/pandas.DataFrame.head.html)<br/>\n",
    "=> à cette étape là n'oubliez pas de prendre le temps de comprendre chacune des variables ; ce qu'elle signifie, c'est important par la suite de savoir de quoi on parle !\n",
    "- regarder les informations de votre dataframe<br/>\n",
    "(https://pandas.pydata.org/pandas-docs/stable/reference/api/pandas.DataFrame.info.html)\n",
    "- regarder les statistiques descriptives univariées de votre dataframe<br/>\n",
    "(https://pandas.pydata.org/pandas-docs/stable/reference/api/pandas.DataFrame.describe.html)\n",
    "- réaliser des graphiques univariés afin d'observer la répartition des données<br/>\n",
    "    - https://pandas.pydata.org/pandas-docs/stable/reference/api/pandas.DataFrame.hist.html<br/>\n",
    "    - https://pandas.pydata.org/pandas-docs/stable/reference/api/pandas.DataFrame.boxplot.html<br/>\n",
    "    \n",
    "Nous allons explorer tout ça petit à petit !\n",
    "\n",
    "Par la suite si vous vous demandez quel graphique est le plus adapté à vos données, vous pouvez jeter un coup d'oeil ici : https://www.data-to-viz.com/"
   ]
  },
  {
   "cell_type": "markdown",
   "metadata": {},
   "source": [
    "## Premières observations : se familiariser avec le jeu de données"
   ]
  },
  {
   "cell_type": "markdown",
   "metadata": {},
   "source": [
    "**TODO**\n",
    "        \n",
    "1. Charger le dataset \"DATA_part1\" dans un dataframe\n",
    "2. Afficher les premières lignes, tester la méthode 'describe'\n",
    "3. Tracer un histogramme des 8 premières colonnes\n",
    "\n",
    "**Aide :**\n",
    "\n",
    "- Histogramme = représentation graphique de la répartition d'une variable : on groupe les valeurs par classe et on affiche le nb de valeurs par classe. Faire varier le nombre de classe et observer le résultat"
   ]
  },
  {
   "cell_type": "markdown",
   "metadata": {},
   "source": [
    "#### Charger le dataset \"DATA_part1\" dans un dataframe"
   ]
  },
  {
   "cell_type": "code",
   "execution_count": 1,
   "metadata": {},
   "outputs": [],
   "source": [
    "import pandas as pd\n",
    "df = pd.read_csv('../data/Data_part1')"
   ]
  },
  {
   "cell_type": "markdown",
   "metadata": {},
   "source": [
    "#### Afficher les premières lignes, tester la méthode 'describe'"
   ]
  },
  {
   "cell_type": "code",
   "execution_count": 2,
   "metadata": {},
   "outputs": [
    {
     "data": {
      "text/html": [
       "<div>\n",
       "<style scoped>\n",
       "    .dataframe tbody tr th:only-of-type {\n",
       "        vertical-align: middle;\n",
       "    }\n",
       "\n",
       "    .dataframe tbody tr th {\n",
       "        vertical-align: top;\n",
       "    }\n",
       "\n",
       "    .dataframe thead th {\n",
       "        text-align: right;\n",
       "    }\n",
       "</style>\n",
       "<table border=\"1\" class=\"dataframe\">\n",
       "  <thead>\n",
       "    <tr style=\"text-align: right;\">\n",
       "      <th></th>\n",
       "      <th>A</th>\n",
       "      <th>B</th>\n",
       "      <th>C</th>\n",
       "      <th>D</th>\n",
       "      <th>E</th>\n",
       "      <th>F</th>\n",
       "      <th>G</th>\n",
       "      <th>H</th>\n",
       "      <th>réveil</th>\n",
       "      <th>matin</th>\n",
       "      <th>lait</th>\n",
       "      <th>petit dej</th>\n",
       "    </tr>\n",
       "  </thead>\n",
       "  <tbody>\n",
       "    <tr>\n",
       "      <th>0</th>\n",
       "      <td>-4.853218</td>\n",
       "      <td>0.336325</td>\n",
       "      <td>-2.252479</td>\n",
       "      <td>3.145284</td>\n",
       "      <td>3.212247</td>\n",
       "      <td>0.540656</td>\n",
       "      <td>0.737929</td>\n",
       "      <td>-0.542533</td>\n",
       "      <td>toujours pas réveillé</td>\n",
       "      <td>café</td>\n",
       "      <td>0.0</td>\n",
       "      <td>croissant</td>\n",
       "    </tr>\n",
       "    <tr>\n",
       "      <th>1</th>\n",
       "      <td>1.031640</td>\n",
       "      <td>-1.207136</td>\n",
       "      <td>-0.704018</td>\n",
       "      <td>3.092987</td>\n",
       "      <td>4.924741</td>\n",
       "      <td>0.153680</td>\n",
       "      <td>0.313898</td>\n",
       "      <td>-1.639022</td>\n",
       "      <td>difficile</td>\n",
       "      <td>café</td>\n",
       "      <td>1.0</td>\n",
       "      <td>croissant</td>\n",
       "    </tr>\n",
       "    <tr>\n",
       "      <th>2</th>\n",
       "      <td>-4.582366</td>\n",
       "      <td>-0.800292</td>\n",
       "      <td>-0.515243</td>\n",
       "      <td>2.925474</td>\n",
       "      <td>2.808811</td>\n",
       "      <td>1.412834</td>\n",
       "      <td>1.302301</td>\n",
       "      <td>-0.054520</td>\n",
       "      <td>toujours pas réveillé</td>\n",
       "      <td>café</td>\n",
       "      <td>1.0</td>\n",
       "      <td>croissant</td>\n",
       "    </tr>\n",
       "    <tr>\n",
       "      <th>3</th>\n",
       "      <td>2.691380</td>\n",
       "      <td>0.144119</td>\n",
       "      <td>2.530201</td>\n",
       "      <td>3.914499</td>\n",
       "      <td>4.108476</td>\n",
       "      <td>3.495376</td>\n",
       "      <td>3.381862</td>\n",
       "      <td>1.136969</td>\n",
       "      <td>difficile</td>\n",
       "      <td>thé</td>\n",
       "      <td>0.0</td>\n",
       "      <td>croissant</td>\n",
       "    </tr>\n",
       "    <tr>\n",
       "      <th>4</th>\n",
       "      <td>3.679196</td>\n",
       "      <td>0.955008</td>\n",
       "      <td>-5.120556</td>\n",
       "      <td>2.631311</td>\n",
       "      <td>4.832076</td>\n",
       "      <td>0.389124</td>\n",
       "      <td>0.383447</td>\n",
       "      <td>-5.500964</td>\n",
       "      <td>difficile</td>\n",
       "      <td>café</td>\n",
       "      <td>0.0</td>\n",
       "      <td>croissant</td>\n",
       "    </tr>\n",
       "  </tbody>\n",
       "</table>\n",
       "</div>"
      ],
      "text/plain": [
       "          A         B         C         D         E         F         G  \\\n",
       "0 -4.853218  0.336325 -2.252479  3.145284  3.212247  0.540656  0.737929   \n",
       "1  1.031640 -1.207136 -0.704018  3.092987  4.924741  0.153680  0.313898   \n",
       "2 -4.582366 -0.800292 -0.515243  2.925474  2.808811  1.412834  1.302301   \n",
       "3  2.691380  0.144119  2.530201  3.914499  4.108476  3.495376  3.381862   \n",
       "4  3.679196  0.955008 -5.120556  2.631311  4.832076  0.389124  0.383447   \n",
       "\n",
       "          H                 réveil matin  lait  petit dej  \n",
       "0 -0.542533  toujours pas réveillé  café   0.0  croissant  \n",
       "1 -1.639022              difficile  café   1.0  croissant  \n",
       "2 -0.054520  toujours pas réveillé  café   1.0  croissant  \n",
       "3  1.136969              difficile   thé   0.0  croissant  \n",
       "4 -5.500964              difficile  café   0.0  croissant  "
      ]
     },
     "execution_count": 2,
     "metadata": {},
     "output_type": "execute_result"
    }
   ],
   "source": [
    "#df[:8]\n",
    "df.head()"
   ]
  },
  {
   "cell_type": "code",
   "execution_count": 3,
   "metadata": {},
   "outputs": [
    {
     "data": {
      "text/html": [
       "<div>\n",
       "<style scoped>\n",
       "    .dataframe tbody tr th:only-of-type {\n",
       "        vertical-align: middle;\n",
       "    }\n",
       "\n",
       "    .dataframe tbody tr th {\n",
       "        vertical-align: top;\n",
       "    }\n",
       "\n",
       "    .dataframe thead th {\n",
       "        text-align: right;\n",
       "    }\n",
       "</style>\n",
       "<table border=\"1\" class=\"dataframe\">\n",
       "  <thead>\n",
       "    <tr style=\"text-align: right;\">\n",
       "      <th></th>\n",
       "      <th>A</th>\n",
       "      <th>B</th>\n",
       "      <th>C</th>\n",
       "      <th>D</th>\n",
       "      <th>E</th>\n",
       "      <th>F</th>\n",
       "      <th>G</th>\n",
       "      <th>H</th>\n",
       "      <th>lait</th>\n",
       "    </tr>\n",
       "  </thead>\n",
       "  <tbody>\n",
       "    <tr>\n",
       "      <th>count</th>\n",
       "      <td>10000.000000</td>\n",
       "      <td>10000.000000</td>\n",
       "      <td>10000.000000</td>\n",
       "      <td>10000.000000</td>\n",
       "      <td>10000.000000</td>\n",
       "      <td>10000.000000</td>\n",
       "      <td>10000.000000</td>\n",
       "      <td>10000.000000</td>\n",
       "      <td>10000.000000</td>\n",
       "    </tr>\n",
       "    <tr>\n",
       "      <th>mean</th>\n",
       "      <td>0.036334</td>\n",
       "      <td>-0.001222</td>\n",
       "      <td>0.027083</td>\n",
       "      <td>0.002676</td>\n",
       "      <td>4.687889</td>\n",
       "      <td>1.023130</td>\n",
       "      <td>1.027027</td>\n",
       "      <td>0.065347</td>\n",
       "      <td>0.498900</td>\n",
       "    </tr>\n",
       "    <tr>\n",
       "      <th>std</th>\n",
       "      <td>2.866900</td>\n",
       "      <td>1.007486</td>\n",
       "      <td>3.008689</td>\n",
       "      <td>2.241933</td>\n",
       "      <td>2.966784</td>\n",
       "      <td>1.029788</td>\n",
       "      <td>1.036689</td>\n",
       "      <td>3.328620</td>\n",
       "      <td>0.500024</td>\n",
       "    </tr>\n",
       "    <tr>\n",
       "      <th>min</th>\n",
       "      <td>-4.999033</td>\n",
       "      <td>-4.266466</td>\n",
       "      <td>-11.079926</td>\n",
       "      <td>-5.315736</td>\n",
       "      <td>0.000386</td>\n",
       "      <td>0.000026</td>\n",
       "      <td>-0.297518</td>\n",
       "      <td>-11.974507</td>\n",
       "      <td>0.000000</td>\n",
       "    </tr>\n",
       "    <tr>\n",
       "      <th>25%</th>\n",
       "      <td>-2.412769</td>\n",
       "      <td>-0.690013</td>\n",
       "      <td>-1.990707</td>\n",
       "      <td>-1.984108</td>\n",
       "      <td>2.884097</td>\n",
       "      <td>0.285050</td>\n",
       "      <td>0.298594</td>\n",
       "      <td>-2.104974</td>\n",
       "      <td>0.000000</td>\n",
       "    </tr>\n",
       "    <tr>\n",
       "      <th>50%</th>\n",
       "      <td>0.019228</td>\n",
       "      <td>0.003851</td>\n",
       "      <td>-0.001765</td>\n",
       "      <td>0.029963</td>\n",
       "      <td>4.168992</td>\n",
       "      <td>0.712555</td>\n",
       "      <td>0.722780</td>\n",
       "      <td>0.004217</td>\n",
       "      <td>0.000000</td>\n",
       "    </tr>\n",
       "    <tr>\n",
       "      <th>75%</th>\n",
       "      <td>2.516380</td>\n",
       "      <td>0.686570</td>\n",
       "      <td>2.063967</td>\n",
       "      <td>2.018438</td>\n",
       "      <td>5.703988</td>\n",
       "      <td>1.411114</td>\n",
       "      <td>1.423560</td>\n",
       "      <td>2.193579</td>\n",
       "      <td>1.000000</td>\n",
       "    </tr>\n",
       "    <tr>\n",
       "      <th>max</th>\n",
       "      <td>4.999584</td>\n",
       "      <td>3.834648</td>\n",
       "      <td>10.856120</td>\n",
       "      <td>5.915217</td>\n",
       "      <td>20.776221</td>\n",
       "      <td>11.239160</td>\n",
       "      <td>11.309762</td>\n",
       "      <td>29.876586</td>\n",
       "      <td>1.000000</td>\n",
       "    </tr>\n",
       "  </tbody>\n",
       "</table>\n",
       "</div>"
      ],
      "text/plain": [
       "                  A             B             C             D             E  \\\n",
       "count  10000.000000  10000.000000  10000.000000  10000.000000  10000.000000   \n",
       "mean       0.036334     -0.001222      0.027083      0.002676      4.687889   \n",
       "std        2.866900      1.007486      3.008689      2.241933      2.966784   \n",
       "min       -4.999033     -4.266466    -11.079926     -5.315736      0.000386   \n",
       "25%       -2.412769     -0.690013     -1.990707     -1.984108      2.884097   \n",
       "50%        0.019228      0.003851     -0.001765      0.029963      4.168992   \n",
       "75%        2.516380      0.686570      2.063967      2.018438      5.703988   \n",
       "max        4.999584      3.834648     10.856120      5.915217     20.776221   \n",
       "\n",
       "                  F             G             H          lait  \n",
       "count  10000.000000  10000.000000  10000.000000  10000.000000  \n",
       "mean       1.023130      1.027027      0.065347      0.498900  \n",
       "std        1.029788      1.036689      3.328620      0.500024  \n",
       "min        0.000026     -0.297518    -11.974507      0.000000  \n",
       "25%        0.285050      0.298594     -2.104974      0.000000  \n",
       "50%        0.712555      0.722780      0.004217      0.000000  \n",
       "75%        1.411114      1.423560      2.193579      1.000000  \n",
       "max       11.239160     11.309762     29.876586      1.000000  "
      ]
     },
     "execution_count": 3,
     "metadata": {},
     "output_type": "execute_result"
    }
   ],
   "source": [
    "df.describe()"
   ]
  },
  {
   "cell_type": "markdown",
   "metadata": {},
   "source": [
    "#### Tracer un histogramme des 8 premières colonnes"
   ]
  },
  {
   "cell_type": "code",
   "execution_count": 4,
   "metadata": {},
   "outputs": [],
   "source": [
    "import matplotlib.pyplot as plt\n",
    "import numpy as np\n",
    "\n",
    "first8 = df.iloc[:,:8]"
   ]
  },
  {
   "cell_type": "code",
   "execution_count": 5,
   "metadata": {},
   "outputs": [
    {
     "data": {
      "text/html": [
       "<div>\n",
       "<style scoped>\n",
       "    .dataframe tbody tr th:only-of-type {\n",
       "        vertical-align: middle;\n",
       "    }\n",
       "\n",
       "    .dataframe tbody tr th {\n",
       "        vertical-align: top;\n",
       "    }\n",
       "\n",
       "    .dataframe thead th {\n",
       "        text-align: right;\n",
       "    }\n",
       "</style>\n",
       "<table border=\"1\" class=\"dataframe\">\n",
       "  <thead>\n",
       "    <tr style=\"text-align: right;\">\n",
       "      <th></th>\n",
       "      <th>A</th>\n",
       "      <th>B</th>\n",
       "      <th>C</th>\n",
       "      <th>D</th>\n",
       "      <th>E</th>\n",
       "      <th>F</th>\n",
       "      <th>G</th>\n",
       "      <th>H</th>\n",
       "    </tr>\n",
       "  </thead>\n",
       "  <tbody>\n",
       "    <tr>\n",
       "      <th>0</th>\n",
       "      <td>-4.853218</td>\n",
       "      <td>0.336325</td>\n",
       "      <td>-2.252479</td>\n",
       "      <td>3.145284</td>\n",
       "      <td>3.212247</td>\n",
       "      <td>0.540656</td>\n",
       "      <td>0.737929</td>\n",
       "      <td>-0.542533</td>\n",
       "    </tr>\n",
       "    <tr>\n",
       "      <th>1</th>\n",
       "      <td>1.031640</td>\n",
       "      <td>-1.207136</td>\n",
       "      <td>-0.704018</td>\n",
       "      <td>3.092987</td>\n",
       "      <td>4.924741</td>\n",
       "      <td>0.153680</td>\n",
       "      <td>0.313898</td>\n",
       "      <td>-1.639022</td>\n",
       "    </tr>\n",
       "    <tr>\n",
       "      <th>2</th>\n",
       "      <td>-4.582366</td>\n",
       "      <td>-0.800292</td>\n",
       "      <td>-0.515243</td>\n",
       "      <td>2.925474</td>\n",
       "      <td>2.808811</td>\n",
       "      <td>1.412834</td>\n",
       "      <td>1.302301</td>\n",
       "      <td>-0.054520</td>\n",
       "    </tr>\n",
       "    <tr>\n",
       "      <th>3</th>\n",
       "      <td>2.691380</td>\n",
       "      <td>0.144119</td>\n",
       "      <td>2.530201</td>\n",
       "      <td>3.914499</td>\n",
       "      <td>4.108476</td>\n",
       "      <td>3.495376</td>\n",
       "      <td>3.381862</td>\n",
       "      <td>1.136969</td>\n",
       "    </tr>\n",
       "    <tr>\n",
       "      <th>4</th>\n",
       "      <td>3.679196</td>\n",
       "      <td>0.955008</td>\n",
       "      <td>-5.120556</td>\n",
       "      <td>2.631311</td>\n",
       "      <td>4.832076</td>\n",
       "      <td>0.389124</td>\n",
       "      <td>0.383447</td>\n",
       "      <td>-5.500964</td>\n",
       "    </tr>\n",
       "    <tr>\n",
       "      <th>...</th>\n",
       "      <td>...</td>\n",
       "      <td>...</td>\n",
       "      <td>...</td>\n",
       "      <td>...</td>\n",
       "      <td>...</td>\n",
       "      <td>...</td>\n",
       "      <td>...</td>\n",
       "      <td>...</td>\n",
       "    </tr>\n",
       "    <tr>\n",
       "      <th>9995</th>\n",
       "      <td>-1.194839</td>\n",
       "      <td>-0.233589</td>\n",
       "      <td>-0.621681</td>\n",
       "      <td>-2.818316</td>\n",
       "      <td>6.717857</td>\n",
       "      <td>0.595529</td>\n",
       "      <td>0.451535</td>\n",
       "      <td>0.410630</td>\n",
       "    </tr>\n",
       "    <tr>\n",
       "      <th>9996</th>\n",
       "      <td>3.316081</td>\n",
       "      <td>-0.378908</td>\n",
       "      <td>-2.200668</td>\n",
       "      <td>-1.822745</td>\n",
       "      <td>0.325716</td>\n",
       "      <td>1.501956</td>\n",
       "      <td>1.556693</td>\n",
       "      <td>-3.517332</td>\n",
       "    </tr>\n",
       "    <tr>\n",
       "      <th>9997</th>\n",
       "      <td>1.233816</td>\n",
       "      <td>-0.085799</td>\n",
       "      <td>-5.785903</td>\n",
       "      <td>-0.391353</td>\n",
       "      <td>8.584206</td>\n",
       "      <td>1.633655</td>\n",
       "      <td>1.736241</td>\n",
       "      <td>-5.066254</td>\n",
       "    </tr>\n",
       "    <tr>\n",
       "      <th>9998</th>\n",
       "      <td>1.897711</td>\n",
       "      <td>-0.208661</td>\n",
       "      <td>-5.381268</td>\n",
       "      <td>0.279454</td>\n",
       "      <td>10.493380</td>\n",
       "      <td>0.485266</td>\n",
       "      <td>0.600564</td>\n",
       "      <td>-6.283780</td>\n",
       "    </tr>\n",
       "    <tr>\n",
       "      <th>9999</th>\n",
       "      <td>2.055711</td>\n",
       "      <td>-2.846464</td>\n",
       "      <td>0.690904</td>\n",
       "      <td>-2.761351</td>\n",
       "      <td>5.504073</td>\n",
       "      <td>1.298243</td>\n",
       "      <td>1.505902</td>\n",
       "      <td>2.265215</td>\n",
       "    </tr>\n",
       "  </tbody>\n",
       "</table>\n",
       "<p>10000 rows × 8 columns</p>\n",
       "</div>"
      ],
      "text/plain": [
       "             A         B         C         D          E         F         G  \\\n",
       "0    -4.853218  0.336325 -2.252479  3.145284   3.212247  0.540656  0.737929   \n",
       "1     1.031640 -1.207136 -0.704018  3.092987   4.924741  0.153680  0.313898   \n",
       "2    -4.582366 -0.800292 -0.515243  2.925474   2.808811  1.412834  1.302301   \n",
       "3     2.691380  0.144119  2.530201  3.914499   4.108476  3.495376  3.381862   \n",
       "4     3.679196  0.955008 -5.120556  2.631311   4.832076  0.389124  0.383447   \n",
       "...        ...       ...       ...       ...        ...       ...       ...   \n",
       "9995 -1.194839 -0.233589 -0.621681 -2.818316   6.717857  0.595529  0.451535   \n",
       "9996  3.316081 -0.378908 -2.200668 -1.822745   0.325716  1.501956  1.556693   \n",
       "9997  1.233816 -0.085799 -5.785903 -0.391353   8.584206  1.633655  1.736241   \n",
       "9998  1.897711 -0.208661 -5.381268  0.279454  10.493380  0.485266  0.600564   \n",
       "9999  2.055711 -2.846464  0.690904 -2.761351   5.504073  1.298243  1.505902   \n",
       "\n",
       "             H  \n",
       "0    -0.542533  \n",
       "1    -1.639022  \n",
       "2    -0.054520  \n",
       "3     1.136969  \n",
       "4    -5.500964  \n",
       "...        ...  \n",
       "9995  0.410630  \n",
       "9996 -3.517332  \n",
       "9997 -5.066254  \n",
       "9998 -6.283780  \n",
       "9999  2.265215  \n",
       "\n",
       "[10000 rows x 8 columns]"
      ]
     },
     "execution_count": 5,
     "metadata": {},
     "output_type": "execute_result"
    }
   ],
   "source": [
    "first8"
   ]
  },
  {
   "cell_type": "code",
   "execution_count": 6,
   "metadata": {},
   "outputs": [
    {
     "data": {
      "image/png": "[encoded data removed]",
      "text/plain": [
       "<Figure size 1000x600 with 8 Axes>"
      ]
     },
     "metadata": {},
     "output_type": "display_data"
    }
   ],
   "source": [
    "first8.hist(layout=(2, 4), figsize=(10, 6))\n",
    "plt.suptitle('Histogramme')\n",
    "plt.show()"
   ]
  },
  {
   "cell_type": "markdown",
   "metadata": {},
   "source": [
    "## Mesures de tendance centrale"
   ]
  },
  {
   "cell_type": "markdown",
   "metadata": {},
   "source": [
    "Nous allons maintenant creuser les notions de :\n",
    "- moyenne\n",
    "- médiane\n",
    "- mode\n",
    "\n",
    "https://towardsdatascience.com/statistics-01-mean-median-and-mode-d6d8597ed9f1"
   ]
  },
  {
   "cell_type": "code",
   "execution_count": 7,
   "metadata": {},
   "outputs": [
    {
     "data": {
      "text/html": [
       "<img src=\"https://miro.medium.com/max/750/1*HO8STTKaPuDHcYCu7TgDNg.png\" width=\"500\"/>"
      ],
      "text/plain": [
       "<IPython.core.display.Image object>"
      ]
     },
     "execution_count": 7,
     "metadata": {},
     "output_type": "execute_result"
    }
   ],
   "source": [
    "from IPython.core.display import HTML \n",
    "from IPython.display import Image\n",
    "url = 'https://miro.medium.com/max/750/1*HO8STTKaPuDHcYCu7TgDNg.png'\n",
    "Image(url = url, width = 500)"
   ]
  },
  {
   "cell_type": "markdown",
   "metadata": {},
   "source": [
    "**TODO**\n",
    "        \n",
    "1. Afficher la moyenne et la médiane de chaque colonne\n",
    "2. Pourquoi utiliser l'une plutôt que l'autre ?\n",
    "3. Quelle est la mesure la plus représentative d'un dataset contenant des données qualitatives ?\n",
    "\n",
    "https://pandas.pydata.org/Pandas_Cheat_Sheet.pdf<br/>\n",
    "https://towardsdatascience.com/mean-median-mode-which-central-tendency-measure-to-use-when-9fb3ebbe3006"
   ]
  },
  {
   "cell_type": "markdown",
   "metadata": {},
   "source": [
    "#### Afficher la moyenne et la médiane de chaque colonne"
   ]
  },
  {
   "cell_type": "code",
   "execution_count": 8,
   "metadata": {},
   "outputs": [
    {
     "data": {
      "text/plain": [
       "A    0.036334\n",
       "B   -0.001222\n",
       "C    0.027083\n",
       "D    0.002676\n",
       "E    4.687889\n",
       "F    1.023130\n",
       "G    1.027027\n",
       "H    0.065347\n",
       "dtype: float64"
      ]
     },
     "execution_count": 8,
     "metadata": {},
     "output_type": "execute_result"
    }
   ],
   "source": [
    "first8.mean()"
   ]
  },
  {
   "cell_type": "code",
   "execution_count": 9,
   "metadata": {},
   "outputs": [
    {
     "data": {
      "text/plain": [
       "A    0.019228\n",
       "B    0.003851\n",
       "C   -0.001765\n",
       "D    0.029963\n",
       "E    4.168992\n",
       "F    0.712555\n",
       "G    0.722780\n",
       "H    0.004217\n",
       "dtype: float64"
      ]
     },
     "execution_count": 9,
     "metadata": {},
     "output_type": "execute_result"
    }
   ],
   "source": [
    "first8.median()"
   ]
  },
  {
   "cell_type": "code",
   "execution_count": 10,
   "metadata": {},
   "outputs": [
    {
     "data": {
      "text/html": [
       "<div>\n",
       "<style scoped>\n",
       "    .dataframe tbody tr th:only-of-type {\n",
       "        vertical-align: middle;\n",
       "    }\n",
       "\n",
       "    .dataframe tbody tr th {\n",
       "        vertical-align: top;\n",
       "    }\n",
       "\n",
       "    .dataframe thead th {\n",
       "        text-align: right;\n",
       "    }\n",
       "</style>\n",
       "<table border=\"1\" class=\"dataframe\">\n",
       "  <thead>\n",
       "    <tr style=\"text-align: right;\">\n",
       "      <th></th>\n",
       "      <th>A</th>\n",
       "      <th>B</th>\n",
       "      <th>C</th>\n",
       "      <th>D</th>\n",
       "      <th>E</th>\n",
       "      <th>F</th>\n",
       "      <th>G</th>\n",
       "      <th>H</th>\n",
       "    </tr>\n",
       "  </thead>\n",
       "  <tbody>\n",
       "    <tr>\n",
       "      <th>0</th>\n",
       "      <td>-4.999033</td>\n",
       "      <td>-4.266466</td>\n",
       "      <td>-11.079926</td>\n",
       "      <td>-5.315736</td>\n",
       "      <td>0.000386</td>\n",
       "      <td>0.000026</td>\n",
       "      <td>-0.297518</td>\n",
       "      <td>-11.974507</td>\n",
       "    </tr>\n",
       "    <tr>\n",
       "      <th>1</th>\n",
       "      <td>-4.998333</td>\n",
       "      <td>-3.708827</td>\n",
       "      <td>-10.095901</td>\n",
       "      <td>-5.241407</td>\n",
       "      <td>0.002957</td>\n",
       "      <td>0.000061</td>\n",
       "      <td>-0.284811</td>\n",
       "      <td>-11.549409</td>\n",
       "    </tr>\n",
       "    <tr>\n",
       "      <th>2</th>\n",
       "      <td>-4.996210</td>\n",
       "      <td>-3.704059</td>\n",
       "      <td>-10.051056</td>\n",
       "      <td>-5.214184</td>\n",
       "      <td>0.003275</td>\n",
       "      <td>0.000244</td>\n",
       "      <td>-0.241072</td>\n",
       "      <td>-10.887817</td>\n",
       "    </tr>\n",
       "    <tr>\n",
       "      <th>3</th>\n",
       "      <td>-4.993073</td>\n",
       "      <td>-3.640524</td>\n",
       "      <td>-9.839635</td>\n",
       "      <td>-5.163165</td>\n",
       "      <td>0.003633</td>\n",
       "      <td>0.000309</td>\n",
       "      <td>-0.235005</td>\n",
       "      <td>-10.400268</td>\n",
       "    </tr>\n",
       "    <tr>\n",
       "      <th>4</th>\n",
       "      <td>-4.992924</td>\n",
       "      <td>-3.621469</td>\n",
       "      <td>-9.712904</td>\n",
       "      <td>-5.147818</td>\n",
       "      <td>0.004568</td>\n",
       "      <td>0.000384</td>\n",
       "      <td>-0.212570</td>\n",
       "      <td>-9.836201</td>\n",
       "    </tr>\n",
       "    <tr>\n",
       "      <th>...</th>\n",
       "      <td>...</td>\n",
       "      <td>...</td>\n",
       "      <td>...</td>\n",
       "      <td>...</td>\n",
       "      <td>...</td>\n",
       "      <td>...</td>\n",
       "      <td>...</td>\n",
       "      <td>...</td>\n",
       "    </tr>\n",
       "    <tr>\n",
       "      <th>9995</th>\n",
       "      <td>4.997823</td>\n",
       "      <td>3.537022</td>\n",
       "      <td>9.891480</td>\n",
       "      <td>5.033886</td>\n",
       "      <td>18.610051</td>\n",
       "      <td>7.588567</td>\n",
       "      <td>7.669843</td>\n",
       "      <td>27.271324</td>\n",
       "    </tr>\n",
       "    <tr>\n",
       "      <th>9996</th>\n",
       "      <td>4.998199</td>\n",
       "      <td>3.586216</td>\n",
       "      <td>10.361636</td>\n",
       "      <td>5.046601</td>\n",
       "      <td>18.885397</td>\n",
       "      <td>7.803433</td>\n",
       "      <td>7.771200</td>\n",
       "      <td>27.727542</td>\n",
       "    </tr>\n",
       "    <tr>\n",
       "      <th>9997</th>\n",
       "      <td>4.998737</td>\n",
       "      <td>3.762148</td>\n",
       "      <td>10.438318</td>\n",
       "      <td>5.191157</td>\n",
       "      <td>19.495289</td>\n",
       "      <td>8.074879</td>\n",
       "      <td>8.174967</td>\n",
       "      <td>29.178462</td>\n",
       "    </tr>\n",
       "    <tr>\n",
       "      <th>9998</th>\n",
       "      <td>4.999457</td>\n",
       "      <td>3.781239</td>\n",
       "      <td>10.522890</td>\n",
       "      <td>5.644933</td>\n",
       "      <td>20.094078</td>\n",
       "      <td>8.984132</td>\n",
       "      <td>9.017188</td>\n",
       "      <td>29.401425</td>\n",
       "    </tr>\n",
       "    <tr>\n",
       "      <th>9999</th>\n",
       "      <td>4.999584</td>\n",
       "      <td>3.834648</td>\n",
       "      <td>10.856120</td>\n",
       "      <td>5.915217</td>\n",
       "      <td>20.776221</td>\n",
       "      <td>11.239160</td>\n",
       "      <td>11.309762</td>\n",
       "      <td>29.876586</td>\n",
       "    </tr>\n",
       "  </tbody>\n",
       "</table>\n",
       "<p>10000 rows × 8 columns</p>\n",
       "</div>"
      ],
      "text/plain": [
       "             A         B          C         D          E          F  \\\n",
       "0    -4.999033 -4.266466 -11.079926 -5.315736   0.000386   0.000026   \n",
       "1    -4.998333 -3.708827 -10.095901 -5.241407   0.002957   0.000061   \n",
       "2    -4.996210 -3.704059 -10.051056 -5.214184   0.003275   0.000244   \n",
       "3    -4.993073 -3.640524  -9.839635 -5.163165   0.003633   0.000309   \n",
       "4    -4.992924 -3.621469  -9.712904 -5.147818   0.004568   0.000384   \n",
       "...        ...       ...        ...       ...        ...        ...   \n",
       "9995  4.997823  3.537022   9.891480  5.033886  18.610051   7.588567   \n",
       "9996  4.998199  3.586216  10.361636  5.046601  18.885397   7.803433   \n",
       "9997  4.998737  3.762148  10.438318  5.191157  19.495289   8.074879   \n",
       "9998  4.999457  3.781239  10.522890  5.644933  20.094078   8.984132   \n",
       "9999  4.999584  3.834648  10.856120  5.915217  20.776221  11.239160   \n",
       "\n",
       "              G          H  \n",
       "0     -0.297518 -11.974507  \n",
       "1     -0.284811 -11.549409  \n",
       "2     -0.241072 -10.887817  \n",
       "3     -0.235005 -10.400268  \n",
       "4     -0.212570  -9.836201  \n",
       "...         ...        ...  \n",
       "9995   7.669843  27.271324  \n",
       "9996   7.771200  27.727542  \n",
       "9997   8.174967  29.178462  \n",
       "9998   9.017188  29.401425  \n",
       "9999  11.309762  29.876586  \n",
       "\n",
       "[10000 rows x 8 columns]"
      ]
     },
     "execution_count": 10,
     "metadata": {},
     "output_type": "execute_result"
    }
   ],
   "source": [
    "first8.mode()"
   ]
  },
  {
   "cell_type": "markdown",
   "metadata": {},
   "source": [
    "#### Pourquoi utiliser l'une plutôt que l'autre ?"
   ]
  },
  {
   "cell_type": "markdown",
   "metadata": {},
   "source": [
    "La moyenne est simplement considérée comme la mesure la plus fiable de la tendance centrale pour faire des hypothèses sur une population à partir d'un échantillon unique.\n",
    "\n",
    "Le principal avantage de la médiane sur la moyenne est qu'elle n'est pas affectée par la présence de valeurs extrêmement grandes ou extrêmement petites (valeurs aberrantes) qui peuvent fausser la moyenne. La médiane reflète mieux une valeur « typique » de l'ensemble.\n",
    "\n",
    "- la médiane est souvent utilisée avec des distributions asymétriques (distributions que la moyenne représente mal)\n",
    "- la moyenne est plus affectée que la médiane par les outliers"
   ]
  },
  {
   "cell_type": "markdown",
   "metadata": {},
   "source": [
    "#### Quelle est la mesure la plus représentative d'un dataset contenant des données qualitatives ?"
   ]
  },
  {
   "cell_type": "markdown",
   "metadata": {},
   "source": [
    "Le mode : la modalité la plus fréquente dans le dataset"
   ]
  },
  {
   "cell_type": "markdown",
   "metadata": {},
   "source": [
    "## Mesures de dispersion"
   ]
  },
  {
   "cell_type": "markdown",
   "metadata": {},
   "source": [
    "Les mesures de variabilité les plus populaires sont l'intervalle (range), l'intervalle interquartile (interquartile range, IQR), la variance et l'écart type (standard deviation). Ceux-ci sont utilisés pour mesurer la propagation ou la variabilité au sein de vos données.\n",
    "\n",
    "1. Intervalle et intervalle interquartile\n",
    "\n",
    "     - la plage mesure où se trouvent le début et la fin de votre point de données (maximum - minimum)\n",
    "     - l'écart interquartile est une mesure de l'endroit où se situent la majorité des valeurs\n",
    "    \n",
    "\n",
    "2. Variance et écart type\n",
    "\n",
    "     - La variance est calculée en trouvant la différence entre chaque point de données et la moyenne, en les mettant au carré, en les additionnant, puis en prenant la moyenne de ces nombres.\n",
    "     - Les carrés sont utilisés pour pondérer plus lourdement les valeurs aberrantes et empêcher que les différences au-dessus de la moyenne neutralisent celles en dessous de la moyenne.\n",
    "     - En raison de la mise au carré, ce n'est pas dans la même unité de mesure que les données d'origine\n",
    "     - Écart-type = racine carrée de la variance"
   ]
  },
  {
   "cell_type": "markdown",
   "metadata": {},
   "source": [
    "### Quelques illustrations pour comprendre ces notions"
   ]
  },
  {
   "cell_type": "markdown",
   "metadata": {},
   "source": [
    "#### Ecart-type"
   ]
  },
  {
   "cell_type": "markdown",
   "metadata": {},
   "source": [
    "Source : https://fr.wikipedia.org/wiki/%C3%89cart_type"
   ]
  },
  {
   "cell_type": "code",
   "execution_count": 11,
   "metadata": {},
   "outputs": [
    {
     "data": {
      "text/html": [
       "<img src=\"https://upload.wikimedia.org/wikipedia/commons/thumb/f/f9/Comparison_standard_deviations.svg/500px-Comparison_standard_deviations.svg.png\" width=\"400\"/>"
      ],
      "text/plain": [
       "<IPython.core.display.Image object>"
      ]
     },
     "execution_count": 11,
     "metadata": {},
     "output_type": "execute_result"
    }
   ],
   "source": [
    "url = 'https://upload.wikimedia.org/wikipedia/commons/thumb/f/f9/Comparison_standard_deviations.svg/500px-Comparison_standard_deviations.svg.png'\n",
    "Image(url = url, width=400)"
   ]
  },
  {
   "cell_type": "markdown",
   "metadata": {},
   "source": [
    "Exemple de deux échantillons ayant la même moyenne mais des écarts types différents illustrant l'écart type comme mesure de la dispersion autour de la moyenne."
   ]
  },
  {
   "cell_type": "code",
   "execution_count": 12,
   "metadata": {},
   "outputs": [
    {
     "data": {
      "text/html": [
       "<img src=\"https://upload.wikimedia.org/wikipedia/commons/thumb/8/8c/Standard_deviation_diagram.svg/500px-Standard_deviation_diagram.svg.png\" width=\"400\"/>"
      ],
      "text/plain": [
       "<IPython.core.display.Image object>"
      ]
     },
     "execution_count": 12,
     "metadata": {},
     "output_type": "execute_result"
    }
   ],
   "source": [
    "url = 'https://upload.wikimedia.org/wikipedia/commons/thumb/8/8c/Standard_deviation_diagram.svg/500px-Standard_deviation_diagram.svg.png'\n",
    "Image(url = url, width=400)"
   ]
  },
  {
   "cell_type": "markdown",
   "metadata": {},
   "source": [
    "Courbe de distribution normale montrant l'écart type. Chaque bande verticale a une largeur d'un écart type et les pourcentages indiquent leur valeur approximative rapportée à la population totale. Note : du fait des arrondis, le total est de 99,8 % au lieu de 100%."
   ]
  },
  {
   "cell_type": "markdown",
   "metadata": {},
   "source": [
    "#### Ecart interquartile / boxplot"
   ]
  },
  {
   "cell_type": "markdown",
   "metadata": {},
   "source": [
    "Source : https://towardsdatascience.com/understanding-boxplots-5e2df7bcbd51"
   ]
  },
  {
   "cell_type": "code",
   "execution_count": 13,
   "metadata": {},
   "outputs": [
    {
     "data": {
      "text/html": [
       "<img src=\"https://miro.medium.com/max/1000/1*gV5r1dUfmaPxoSMsL7h5rA.png\" width=\"400\"/>"
      ],
      "text/plain": [
       "<IPython.core.display.Image object>"
      ]
     },
     "execution_count": 13,
     "metadata": {},
     "output_type": "execute_result"
    }
   ],
   "source": [
    "url = 'https://miro.medium.com/max/1000/1*gV5r1dUfmaPxoSMsL7h5rA.png'\n",
    "Image(url = url, width=400)"
   ]
  },
  {
   "cell_type": "code",
   "execution_count": 14,
   "metadata": {},
   "outputs": [
    {
     "data": {
      "text/html": [
       "<img src=\"https://miro.medium.com/max/1400/1*2c21SkzJMf3frPXPAR_gZA.png\" width=\"600\"/>"
      ],
      "text/plain": [
       "<IPython.core.display.Image object>"
      ]
     },
     "execution_count": 14,
     "metadata": {},
     "output_type": "execute_result"
    }
   ],
   "source": [
    "url = 'https://miro.medium.com/max/1400/1*2c21SkzJMf3frPXPAR_gZA.png'\n",
    "Image(url = url, width=600)"
   ]
  },
  {
   "cell_type": "markdown",
   "metadata": {},
   "source": [
    "### Mise en pratique"
   ]
  },
  {
   "cell_type": "markdown",
   "metadata": {},
   "source": [
    "**TODO**\n",
    "        \n",
    "Pour les 8 premières colonnes:\n",
    "1. Afficher l'étendue (max-min) et l'écart interquartile\n",
    "2. Afficher l'écart type de chaque colonne\n",
    "3. Tracer une boîte à moustache pour chaque colonne (boxplot). Quelles distributions semblent similaires ?\n",
    "4. Comparer ces boxplots avec les histogrammes obtenus plus haut\n",
    "\n",
    "**Notes:**\n",
    "- boxplot : les whist du boxplot vont par défaut jusqu'à 1.5xIQR (jusqu'à la première données en dessous en fait), le reste apparait en 'outliers'\n",
    "- on peut changer cette valeur, on peut aussi mettre deux éléments (deux percentiles)\n",
    "https://matplotlib.org/3.1.1/api/_as_gen/matplotlib.axes.Axes.boxplot.html"
   ]
  },
  {
   "cell_type": "markdown",
   "metadata": {},
   "source": [
    "https://towardsdatascience.com/understanding-boxplots-5e2df7bcbd51"
   ]
  },
  {
   "cell_type": "markdown",
   "metadata": {},
   "source": [
    "#### Afficher l'étendue (max-min) et l'écart interquartile"
   ]
  },
  {
   "cell_type": "code",
   "execution_count": 15,
   "metadata": {},
   "outputs": [
    {
     "data": {
      "text/plain": [
       "A     4.999584\n",
       "B     3.834648\n",
       "C    10.856120\n",
       "D     5.915217\n",
       "E    20.776221\n",
       "F    11.239160\n",
       "G    11.309762\n",
       "H    29.876586\n",
       "dtype: float64"
      ]
     },
     "execution_count": 15,
     "metadata": {},
     "output_type": "execute_result"
    }
   ],
   "source": [
    "max8 = first8.max()\n",
    "max8"
   ]
  },
  {
   "cell_type": "code",
   "execution_count": 16,
   "metadata": {},
   "outputs": [
    {
     "data": {
      "text/plain": [
       "A    -4.999033\n",
       "B    -4.266466\n",
       "C   -11.079926\n",
       "D    -5.315736\n",
       "E     0.000386\n",
       "F     0.000026\n",
       "G    -0.297518\n",
       "H   -11.974507\n",
       "dtype: float64"
      ]
     },
     "execution_count": 16,
     "metadata": {},
     "output_type": "execute_result"
    }
   ],
   "source": [
    "min8 = first8.min()\n",
    "min8"
   ]
  },
  {
   "cell_type": "code",
   "execution_count": 17,
   "metadata": {},
   "outputs": [
    {
     "data": {
      "text/plain": [
       "A     9.998616\n",
       "B     8.101113\n",
       "C    21.936046\n",
       "D    11.230953\n",
       "E    20.775834\n",
       "F    11.239134\n",
       "G    11.607280\n",
       "H    41.851093\n",
       "dtype: float64"
      ]
     },
     "execution_count": 17,
     "metadata": {},
     "output_type": "execute_result"
    }
   ],
   "source": [
    "max_min = max8 - min8\n",
    "max_min"
   ]
  },
  {
   "cell_type": "code",
   "execution_count": 18,
   "metadata": {},
   "outputs": [
    {
     "data": {
      "text/html": [
       "<div>\n",
       "<style scoped>\n",
       "    .dataframe tbody tr th:only-of-type {\n",
       "        vertical-align: middle;\n",
       "    }\n",
       "\n",
       "    .dataframe tbody tr th {\n",
       "        vertical-align: top;\n",
       "    }\n",
       "\n",
       "    .dataframe thead th {\n",
       "        text-align: right;\n",
       "    }\n",
       "</style>\n",
       "<table border=\"1\" class=\"dataframe\">\n",
       "  <thead>\n",
       "    <tr style=\"text-align: right;\">\n",
       "      <th></th>\n",
       "      <th>A</th>\n",
       "      <th>B</th>\n",
       "      <th>C</th>\n",
       "      <th>D</th>\n",
       "      <th>E</th>\n",
       "      <th>F</th>\n",
       "      <th>G</th>\n",
       "      <th>H</th>\n",
       "    </tr>\n",
       "  </thead>\n",
       "  <tbody>\n",
       "    <tr>\n",
       "      <th>0.25</th>\n",
       "      <td>-2.412769</td>\n",
       "      <td>-0.690013</td>\n",
       "      <td>-1.990707</td>\n",
       "      <td>-1.984108</td>\n",
       "      <td>2.884097</td>\n",
       "      <td>0.285050</td>\n",
       "      <td>0.298594</td>\n",
       "      <td>-2.104974</td>\n",
       "    </tr>\n",
       "    <tr>\n",
       "      <th>0.75</th>\n",
       "      <td>2.516380</td>\n",
       "      <td>0.686570</td>\n",
       "      <td>2.063967</td>\n",
       "      <td>2.018438</td>\n",
       "      <td>5.703988</td>\n",
       "      <td>1.411114</td>\n",
       "      <td>1.423560</td>\n",
       "      <td>2.193579</td>\n",
       "    </tr>\n",
       "  </tbody>\n",
       "</table>\n",
       "</div>"
      ],
      "text/plain": [
       "             A         B         C         D         E         F         G  \\\n",
       "0.25 -2.412769 -0.690013 -1.990707 -1.984108  2.884097  0.285050  0.298594   \n",
       "0.75  2.516380  0.686570  2.063967  2.018438  5.703988  1.411114  1.423560   \n",
       "\n",
       "             H  \n",
       "0.25 -2.104974  \n",
       "0.75  2.193579  "
      ]
     },
     "execution_count": 18,
     "metadata": {},
     "output_type": "execute_result"
    }
   ],
   "source": [
    "first8.quantile([0.25,0.75])"
   ]
  },
  {
   "cell_type": "markdown",
   "metadata": {},
   "source": [
    "Exemples de ce qu'on peut voir ici :\n",
    "- La variable H a une plage de valeurs plus grande par rapport à A ou B (max - min)\n",
    "- Les données sont plus regroupées ; centrées autour de la médiane pour les variables B, F et G (IQR plus petit)"
   ]
  },
  {
   "cell_type": "markdown",
   "metadata": {},
   "source": [
    "#### Afficher l'écart type de chaque colonne"
   ]
  },
  {
   "cell_type": "code",
   "execution_count": 19,
   "metadata": {},
   "outputs": [
    {
     "data": {
      "text/plain": [
       "A    2.866900\n",
       "B    1.007486\n",
       "C    3.008689\n",
       "D    2.241933\n",
       "E    2.966784\n",
       "F    1.029788\n",
       "G    1.036689\n",
       "H    3.328620\n",
       "dtype: float64"
      ]
     },
     "execution_count": 19,
     "metadata": {},
     "output_type": "execute_result"
    }
   ],
   "source": [
    "first8.std()"
   ]
  },
  {
   "cell_type": "markdown",
   "metadata": {},
   "source": [
    "Exemples de ce qu'on peut voir ici :\n",
    "- Les variables C et H montrent un écart-type plus élevé : une plus grande dispersion des données sur la plage de valeurs"
   ]
  },
  {
   "cell_type": "markdown",
   "metadata": {},
   "source": [
    "#### Tracer une boîte à moustache pour chaque colonne (boxplot). Quelles distributions semblent similaires ?"
   ]
  },
  {
   "cell_type": "code",
   "execution_count": 20,
   "metadata": {},
   "outputs": [
    {
     "data": {
      "image/png": "[encoded data removed]",
      "text/plain": [
       "<Figure size 800x300 with 1 Axes>"
      ]
     },
     "metadata": {},
     "output_type": "display_data"
    }
   ],
   "source": [
    "fig = plt.figure(figsize =(8, 3))\n",
    "# Creating axes instance\n",
    "ax = fig.add_axes([10,10, 1, 1])\n",
    " \n",
    "bp = ax.boxplot(first8)\n",
    " \n",
    "plt.show()"
   ]
  },
  {
   "cell_type": "markdown",
   "metadata": {},
   "source": [
    "Exemples de ce qu'on peut voir ici :\n",
    "- La variable H a une plage de valeurs plus grande par rapport à A ou B (étendue de la boite à moustache)\n",
    "- Les données sont plus regroupées ; centrées autour de la médiane pour les variables B, F et G (petites boites comparées aux autres)\n",
    "\n",
    "Ce qui correspond bien à ce qu'on a vu plus haut"
   ]
  },
  {
   "cell_type": "markdown",
   "metadata": {},
   "source": [
    "#### Comparer ces boxplots avec les histogrammes obtenus plus haut"
   ]
  },
  {
   "cell_type": "code",
   "execution_count": 21,
   "metadata": {},
   "outputs": [
    {
     "data": {
      "image/png": "[encoded data removed]",
      "text/plain": [
       "<Figure size 1000x600 with 8 Axes>"
      ]
     },
     "metadata": {},
     "output_type": "display_data"
    },
    {
     "data": {
      "image/png": "[encoded data removed]",
      "text/plain": [
       "<Figure size 800x300 with 1 Axes>"
      ]
     },
     "metadata": {},
     "output_type": "display_data"
    }
   ],
   "source": [
    "ax = fig.add_subplot(2, 2, 1)\n",
    "first8.hist(layout=(2, 4), figsize=(10, 6))\n",
    "plt.suptitle('Histogramme')\n",
    "\n",
    "ax = fig.add_subplot(2, 2, 4)\n",
    "fig = plt.figure(figsize =(8, 3))\n",
    "ax = fig.add_axes([10,10, 1, 1])\n",
    " \n",
    "bp = ax.boxplot(first8)\n",
    "\n",
    "plt.show()"
   ]
  },
  {
   "cell_type": "markdown",
   "metadata": {},
   "source": [
    "Exemples de ce qu'on peut voir ici :\n",
    "- La variable A présente de manière presque équivalente toutes les valeurs\n",
    "- Les variables B et C semblent être bien centrées : regroupées autour de la moyenne, de la médiane et du mode\n",
    "- La variable D présente deux bosses : cela peut laisser penser qu'il y a deux groupes d'individus avec des comportements différents sur cette variable\n",
    "- Les variables F et G tendent vers la gauche (on parlera de skew par la suite)"
   ]
  },
  {
   "cell_type": "markdown",
   "metadata": {},
   "source": [
    "## Normalisation / standardisation"
   ]
  },
  {
   "cell_type": "markdown",
   "metadata": {},
   "source": [
    "- Normalization / Normalisation = redimensionne les valeurs dans une plage de [0,1] (aire sous la courbe = 1 par contre pas forcément centrée sur 0)\n",
    "- Standardization / Standardisation = redimensionne les données pour avoir une moyenne de 0 et un écart type de 1 (variance unitaire), en faisant x - mean / std\n",
    "- Standard score / Score standard (z-score) = représente le nombre d'écarts types au-dessus ou en dessous de la moyenne qu'une observation spécifique tombe\n",
    "\n",
    "Comprendre :<br/>\n",
    "https://www.kdnuggets.com/2020/04/data-transformation-standardization-normalization.html<br/>\n",
    "https://towardsdatascience.com/normalization-vs-standardization-cb8fe15082eb<br/>\n",
    "\n",
    "Mettre en pratique :<br/>\n",
    "https://towardsdatascience.com/scale-standardize-or-normalize-with-scikit-learn-6ccc7d176a02<br/>\n",
    "\n",
    "Pour aller plus loin :<br/>\n",
    "https://scikit-learn.org/stable/auto_examples/preprocessing/plot_all_scaling.html#sphx-glr-auto-examples-preprocessing-plot-all-scaling-py"
   ]
  },
  {
   "cell_type": "markdown",
   "metadata": {},
   "source": [
    "Pourquoi c'est important ? <br/>\n",
    "\n",
    "Vous avez peut-être constaté dans les questions précédentes qu'il est difficile de comparer les variables entre elles : elles ne sont pas sur les mêmes plages de valeurs, ce serait un peu comme comparer des choux et des carottes !\n",
    "\n",
    "Pourquoi est-ce qu'on normalise ou standardise nos données avant de les analyser ? <br/>\n",
    "\n",
    "- Pour nous aider à comparer les fonctionnalités qui ont des unités ou des échelles différentes\n",
    "- Pour faciliter l'interprétation des coefficients de régression (=> sera vu dans la 3ème partie stat)\n",
    "- Pour aider à la convergence dans l'algorithme ML (problèmes de mise à l'échelle) (=> sera vu dans la partie Machine Learning)"
   ]
  },
  {
   "cell_type": "markdown",
   "metadata": {},
   "source": [
    "**TODO**\n",
    "        \n",
    "Pour les 8 premières colonnes:\n",
    "1. Standardiser et normaliser le dataframe (par colonne)\n",
    "2. Identifier les outliers (typiquement > 3 std)\n",
    "3. Tracer les histogrammes obtenus sans outliers"
   ]
  },
  {
   "cell_type": "markdown",
   "metadata": {},
   "source": [
    "#### Standardisation"
   ]
  },
  {
   "cell_type": "code",
   "execution_count": 22,
   "metadata": {},
   "outputs": [
    {
     "data": {
      "text/html": [
       "<div>\n",
       "<style scoped>\n",
       "    .dataframe tbody tr th:only-of-type {\n",
       "        vertical-align: middle;\n",
       "    }\n",
       "\n",
       "    .dataframe tbody tr th {\n",
       "        vertical-align: top;\n",
       "    }\n",
       "\n",
       "    .dataframe thead th {\n",
       "        text-align: right;\n",
       "    }\n",
       "</style>\n",
       "<table border=\"1\" class=\"dataframe\">\n",
       "  <thead>\n",
       "    <tr style=\"text-align: right;\">\n",
       "      <th></th>\n",
       "      <th>A</th>\n",
       "      <th>B</th>\n",
       "      <th>C</th>\n",
       "      <th>D</th>\n",
       "      <th>E</th>\n",
       "      <th>F</th>\n",
       "      <th>G</th>\n",
       "      <th>H</th>\n",
       "    </tr>\n",
       "  </thead>\n",
       "  <tbody>\n",
       "    <tr>\n",
       "      <th>count</th>\n",
       "      <td>10000.000000</td>\n",
       "      <td>10000.000000</td>\n",
       "      <td>10000.000000</td>\n",
       "      <td>10000.000000</td>\n",
       "      <td>10000.000000</td>\n",
       "      <td>10000.000000</td>\n",
       "      <td>10000.000000</td>\n",
       "      <td>10000.000000</td>\n",
       "    </tr>\n",
       "    <tr>\n",
       "      <th>mean</th>\n",
       "      <td>0.036334</td>\n",
       "      <td>-0.001222</td>\n",
       "      <td>0.027083</td>\n",
       "      <td>0.002676</td>\n",
       "      <td>4.687889</td>\n",
       "      <td>1.023130</td>\n",
       "      <td>1.027027</td>\n",
       "      <td>0.065347</td>\n",
       "    </tr>\n",
       "    <tr>\n",
       "      <th>std</th>\n",
       "      <td>2.866900</td>\n",
       "      <td>1.007486</td>\n",
       "      <td>3.008689</td>\n",
       "      <td>2.241933</td>\n",
       "      <td>2.966784</td>\n",
       "      <td>1.029788</td>\n",
       "      <td>1.036689</td>\n",
       "      <td>3.328620</td>\n",
       "    </tr>\n",
       "    <tr>\n",
       "      <th>min</th>\n",
       "      <td>-4.999033</td>\n",
       "      <td>-4.266466</td>\n",
       "      <td>-11.079926</td>\n",
       "      <td>-5.315736</td>\n",
       "      <td>0.000386</td>\n",
       "      <td>0.000026</td>\n",
       "      <td>-0.297518</td>\n",
       "      <td>-11.974507</td>\n",
       "    </tr>\n",
       "    <tr>\n",
       "      <th>25%</th>\n",
       "      <td>-2.412769</td>\n",
       "      <td>-0.690013</td>\n",
       "      <td>-1.990707</td>\n",
       "      <td>-1.984108</td>\n",
       "      <td>2.884097</td>\n",
       "      <td>0.285050</td>\n",
       "      <td>0.298594</td>\n",
       "      <td>-2.104974</td>\n",
       "    </tr>\n",
       "    <tr>\n",
       "      <th>50%</th>\n",
       "      <td>0.019228</td>\n",
       "      <td>0.003851</td>\n",
       "      <td>-0.001765</td>\n",
       "      <td>0.029963</td>\n",
       "      <td>4.168992</td>\n",
       "      <td>0.712555</td>\n",
       "      <td>0.722780</td>\n",
       "      <td>0.004217</td>\n",
       "    </tr>\n",
       "    <tr>\n",
       "      <th>75%</th>\n",
       "      <td>2.516380</td>\n",
       "      <td>0.686570</td>\n",
       "      <td>2.063967</td>\n",
       "      <td>2.018438</td>\n",
       "      <td>5.703988</td>\n",
       "      <td>1.411114</td>\n",
       "      <td>1.423560</td>\n",
       "      <td>2.193579</td>\n",
       "    </tr>\n",
       "    <tr>\n",
       "      <th>max</th>\n",
       "      <td>4.999584</td>\n",
       "      <td>3.834648</td>\n",
       "      <td>10.856120</td>\n",
       "      <td>5.915217</td>\n",
       "      <td>20.776221</td>\n",
       "      <td>11.239160</td>\n",
       "      <td>11.309762</td>\n",
       "      <td>29.876586</td>\n",
       "    </tr>\n",
       "  </tbody>\n",
       "</table>\n",
       "</div>"
      ],
      "text/plain": [
       "                  A             B             C             D             E  \\\n",
       "count  10000.000000  10000.000000  10000.000000  10000.000000  10000.000000   \n",
       "mean       0.036334     -0.001222      0.027083      0.002676      4.687889   \n",
       "std        2.866900      1.007486      3.008689      2.241933      2.966784   \n",
       "min       -4.999033     -4.266466    -11.079926     -5.315736      0.000386   \n",
       "25%       -2.412769     -0.690013     -1.990707     -1.984108      2.884097   \n",
       "50%        0.019228      0.003851     -0.001765      0.029963      4.168992   \n",
       "75%        2.516380      0.686570      2.063967      2.018438      5.703988   \n",
       "max        4.999584      3.834648     10.856120      5.915217     20.776221   \n",
       "\n",
       "                  F             G             H  \n",
       "count  10000.000000  10000.000000  10000.000000  \n",
       "mean       1.023130      1.027027      0.065347  \n",
       "std        1.029788      1.036689      3.328620  \n",
       "min        0.000026     -0.297518    -11.974507  \n",
       "25%        0.285050      0.298594     -2.104974  \n",
       "50%        0.712555      0.722780      0.004217  \n",
       "75%        1.411114      1.423560      2.193579  \n",
       "max       11.239160     11.309762     29.876586  "
      ]
     },
     "execution_count": 22,
     "metadata": {},
     "output_type": "execute_result"
    }
   ],
   "source": [
    "first8.describe()"
   ]
  },
  {
   "cell_type": "code",
   "execution_count": 23,
   "metadata": {},
   "outputs": [],
   "source": [
    "import sklearn.preprocessing"
   ]
  },
  {
   "cell_type": "code",
   "execution_count": 24,
   "metadata": {},
   "outputs": [],
   "source": [
    "from sklearn.preprocessing import MinMaxScaler"
   ]
  },
  {
   "cell_type": "code",
   "execution_count": 44,
   "metadata": {},
   "outputs": [
    {
     "data": {
      "text/html": [
       "<div>\n",
       "<style scoped>\n",
       "    .dataframe tbody tr th:only-of-type {\n",
       "        vertical-align: middle;\n",
       "    }\n",
       "\n",
       "    .dataframe tbody tr th {\n",
       "        vertical-align: top;\n",
       "    }\n",
       "\n",
       "    .dataframe thead th {\n",
       "        text-align: right;\n",
       "    }\n",
       "</style>\n",
       "<table border=\"1\" class=\"dataframe\">\n",
       "  <thead>\n",
       "    <tr style=\"text-align: right;\">\n",
       "      <th></th>\n",
       "      <th>A</th>\n",
       "      <th>B</th>\n",
       "      <th>C</th>\n",
       "      <th>D</th>\n",
       "      <th>E</th>\n",
       "      <th>F</th>\n",
       "      <th>G</th>\n",
       "      <th>H</th>\n",
       "    </tr>\n",
       "  </thead>\n",
       "  <tbody>\n",
       "    <tr>\n",
       "      <th>count</th>\n",
       "      <td>10000.000000</td>\n",
       "      <td>10000.000000</td>\n",
       "      <td>10000.000000</td>\n",
       "      <td>10000.000000</td>\n",
       "      <td>10000.000000</td>\n",
       "      <td>10000.000000</td>\n",
       "      <td>10000.000000</td>\n",
       "      <td>10000.000000</td>\n",
       "    </tr>\n",
       "    <tr>\n",
       "      <th>mean</th>\n",
       "      <td>0.503606</td>\n",
       "      <td>0.526501</td>\n",
       "      <td>0.506336</td>\n",
       "      <td>0.473549</td>\n",
       "      <td>0.225623</td>\n",
       "      <td>0.091030</td>\n",
       "      <td>0.114113</td>\n",
       "      <td>0.287683</td>\n",
       "    </tr>\n",
       "    <tr>\n",
       "      <th>std</th>\n",
       "      <td>0.286730</td>\n",
       "      <td>0.124364</td>\n",
       "      <td>0.137157</td>\n",
       "      <td>0.199621</td>\n",
       "      <td>0.142800</td>\n",
       "      <td>0.091625</td>\n",
       "      <td>0.089314</td>\n",
       "      <td>0.079535</td>\n",
       "    </tr>\n",
       "    <tr>\n",
       "      <th>min</th>\n",
       "      <td>0.000000</td>\n",
       "      <td>0.000000</td>\n",
       "      <td>0.000000</td>\n",
       "      <td>0.000000</td>\n",
       "      <td>0.000000</td>\n",
       "      <td>0.000000</td>\n",
       "      <td>0.000000</td>\n",
       "      <td>0.000000</td>\n",
       "    </tr>\n",
       "    <tr>\n",
       "      <th>25%</th>\n",
       "      <td>0.258662</td>\n",
       "      <td>0.441477</td>\n",
       "      <td>0.414351</td>\n",
       "      <td>0.296647</td>\n",
       "      <td>0.138801</td>\n",
       "      <td>0.025360</td>\n",
       "      <td>0.051357</td>\n",
       "      <td>0.235825</td>\n",
       "    </tr>\n",
       "    <tr>\n",
       "      <th>50%</th>\n",
       "      <td>0.501896</td>\n",
       "      <td>0.527127</td>\n",
       "      <td>0.505021</td>\n",
       "      <td>0.475979</td>\n",
       "      <td>0.200647</td>\n",
       "      <td>0.063397</td>\n",
       "      <td>0.087902</td>\n",
       "      <td>0.286222</td>\n",
       "    </tr>\n",
       "    <tr>\n",
       "      <th>75%</th>\n",
       "      <td>0.751645</td>\n",
       "      <td>0.611402</td>\n",
       "      <td>0.599192</td>\n",
       "      <td>0.653032</td>\n",
       "      <td>0.274531</td>\n",
       "      <td>0.125551</td>\n",
       "      <td>0.148276</td>\n",
       "      <td>0.338536</td>\n",
       "    </tr>\n",
       "    <tr>\n",
       "      <th>max</th>\n",
       "      <td>1.000000</td>\n",
       "      <td>1.000000</td>\n",
       "      <td>1.000000</td>\n",
       "      <td>1.000000</td>\n",
       "      <td>1.000000</td>\n",
       "      <td>1.000000</td>\n",
       "      <td>1.000000</td>\n",
       "      <td>1.000000</td>\n",
       "    </tr>\n",
       "  </tbody>\n",
       "</table>\n",
       "</div>"
      ],
      "text/plain": [
       "                  A             B             C             D             E  \\\n",
       "count  10000.000000  10000.000000  10000.000000  10000.000000  10000.000000   \n",
       "mean       0.503606      0.526501      0.506336      0.473549      0.225623   \n",
       "std        0.286730      0.124364      0.137157      0.199621      0.142800   \n",
       "min        0.000000      0.000000      0.000000      0.000000      0.000000   \n",
       "25%        0.258662      0.441477      0.414351      0.296647      0.138801   \n",
       "50%        0.501896      0.527127      0.505021      0.475979      0.200647   \n",
       "75%        0.751645      0.611402      0.599192      0.653032      0.274531   \n",
       "max        1.000000      1.000000      1.000000      1.000000      1.000000   \n",
       "\n",
       "                  F             G             H  \n",
       "count  10000.000000  10000.000000  10000.000000  \n",
       "mean       0.091030      0.114113      0.287683  \n",
       "std        0.091625      0.089314      0.079535  \n",
       "min        0.000000      0.000000      0.000000  \n",
       "25%        0.025360      0.051357      0.235825  \n",
       "50%        0.063397      0.087902      0.286222  \n",
       "75%        0.125551      0.148276      0.338536  \n",
       "max        1.000000      1.000000      1.000000  "
      ]
     },
     "execution_count": 44,
     "metadata": {},
     "output_type": "execute_result"
    }
   ],
   "source": [
    "minmax_scale = MinMaxScaler().fit(first8)\n",
    "df_minmax = minmax_scale.transform(first8)\n",
    "\n",
    "df_MinMax = pd.DataFrame(data=df_minmax, columns=[\"A\",\"B\", \"C\",\"D\",\"E\", \"F\", \"G\",\"H\"])\n",
    "\n",
    "df_MinMax.describe()"
   ]
  },
  {
   "cell_type": "code",
   "execution_count": 28,
   "metadata": {},
   "outputs": [],
   "source": [
    "from sklearn.preprocessing import StandardScaler"
   ]
  },
  {
   "cell_type": "code",
   "execution_count": 29,
   "metadata": {},
   "outputs": [
    {
     "data": {
      "text/html": [
       "<div>\n",
       "<style scoped>\n",
       "    .dataframe tbody tr th:only-of-type {\n",
       "        vertical-align: middle;\n",
       "    }\n",
       "\n",
       "    .dataframe tbody tr th {\n",
       "        vertical-align: top;\n",
       "    }\n",
       "\n",
       "    .dataframe thead th {\n",
       "        text-align: right;\n",
       "    }\n",
       "</style>\n",
       "<table border=\"1\" class=\"dataframe\">\n",
       "  <thead>\n",
       "    <tr style=\"text-align: right;\">\n",
       "      <th></th>\n",
       "      <th>A</th>\n",
       "      <th>B</th>\n",
       "      <th>C</th>\n",
       "      <th>D</th>\n",
       "      <th>E</th>\n",
       "      <th>F</th>\n",
       "      <th>G</th>\n",
       "      <th>H</th>\n",
       "    </tr>\n",
       "  </thead>\n",
       "  <tbody>\n",
       "    <tr>\n",
       "      <th>count</th>\n",
       "      <td>1.000000e+04</td>\n",
       "      <td>1.000000e+04</td>\n",
       "      <td>1.000000e+04</td>\n",
       "      <td>1.000000e+04</td>\n",
       "      <td>10000.000000</td>\n",
       "      <td>1.000000e+04</td>\n",
       "      <td>1.000000e+04</td>\n",
       "      <td>1.000000e+04</td>\n",
       "    </tr>\n",
       "    <tr>\n",
       "      <th>mean</th>\n",
       "      <td>1.350031e-17</td>\n",
       "      <td>-3.304024e-17</td>\n",
       "      <td>2.131628e-18</td>\n",
       "      <td>-9.094947e-17</td>\n",
       "      <td>0.000000</td>\n",
       "      <td>1.431744e-16</td>\n",
       "      <td>3.268497e-17</td>\n",
       "      <td>4.618528e-18</td>\n",
       "    </tr>\n",
       "    <tr>\n",
       "      <th>std</th>\n",
       "      <td>1.000050e+00</td>\n",
       "      <td>1.000050e+00</td>\n",
       "      <td>1.000050e+00</td>\n",
       "      <td>1.000050e+00</td>\n",
       "      <td>1.000050</td>\n",
       "      <td>1.000050e+00</td>\n",
       "      <td>1.000050e+00</td>\n",
       "      <td>1.000050e+00</td>\n",
       "    </tr>\n",
       "    <tr>\n",
       "      <th>min</th>\n",
       "      <td>-1.756468e+00</td>\n",
       "      <td>-4.233762e+00</td>\n",
       "      <td>-3.691829e+00</td>\n",
       "      <td>-2.372362e+00</td>\n",
       "      <td>-1.580074</td>\n",
       "      <td>-9.935585e-01</td>\n",
       "      <td>-1.277732e+00</td>\n",
       "      <td>-3.617251e+00</td>\n",
       "    </tr>\n",
       "    <tr>\n",
       "      <th>25%</th>\n",
       "      <td>-8.543116e-01</td>\n",
       "      <td>-6.837074e-01</td>\n",
       "      <td>-6.706880e-01</td>\n",
       "      <td>-8.862370e-01</td>\n",
       "      <td>-0.608026</td>\n",
       "      <td>-7.167659e-01</td>\n",
       "      <td>-7.026883e-01</td>\n",
       "      <td>-6.520509e-01</td>\n",
       "    </tr>\n",
       "    <tr>\n",
       "      <th>50%</th>\n",
       "      <td>-5.967029e-03</td>\n",
       "      <td>5.035494e-03</td>\n",
       "      <td>-9.588871e-03</td>\n",
       "      <td>1.217184e-02</td>\n",
       "      <td>-0.174911</td>\n",
       "      <td>-3.016058e-01</td>\n",
       "      <td>-2.934940e-01</td>\n",
       "      <td>-1.836599e-02</td>\n",
       "    </tr>\n",
       "    <tr>\n",
       "      <th>75%</th>\n",
       "      <td>8.651049e-01</td>\n",
       "      <td>6.827147e-01</td>\n",
       "      <td>6.770343e-01</td>\n",
       "      <td>8.991628e-01</td>\n",
       "      <td>0.342509</td>\n",
       "      <td>3.767808e-01</td>\n",
       "      <td>3.825188e-01</td>\n",
       "      <td>6.394053e-01</td>\n",
       "    </tr>\n",
       "    <tr>\n",
       "      <th>max</th>\n",
       "      <td>1.731312e+00</td>\n",
       "      <td>3.807557e+00</td>\n",
       "      <td>3.599434e+00</td>\n",
       "      <td>2.637383e+00</td>\n",
       "      <td>5.423090</td>\n",
       "      <td>9.921014e+00</td>\n",
       "      <td>9.919316e+00</td>\n",
       "      <td>8.956482e+00</td>\n",
       "    </tr>\n",
       "  </tbody>\n",
       "</table>\n",
       "</div>"
      ],
      "text/plain": [
       "                  A             B             C             D             E  \\\n",
       "count  1.000000e+04  1.000000e+04  1.000000e+04  1.000000e+04  10000.000000   \n",
       "mean   1.350031e-17 -3.304024e-17  2.131628e-18 -9.094947e-17      0.000000   \n",
       "std    1.000050e+00  1.000050e+00  1.000050e+00  1.000050e+00      1.000050   \n",
       "min   -1.756468e+00 -4.233762e+00 -3.691829e+00 -2.372362e+00     -1.580074   \n",
       "25%   -8.543116e-01 -6.837074e-01 -6.706880e-01 -8.862370e-01     -0.608026   \n",
       "50%   -5.967029e-03  5.035494e-03 -9.588871e-03  1.217184e-02     -0.174911   \n",
       "75%    8.651049e-01  6.827147e-01  6.770343e-01  8.991628e-01      0.342509   \n",
       "max    1.731312e+00  3.807557e+00  3.599434e+00  2.637383e+00      5.423090   \n",
       "\n",
       "                  F             G             H  \n",
       "count  1.000000e+04  1.000000e+04  1.000000e+04  \n",
       "mean   1.431744e-16  3.268497e-17  4.618528e-18  \n",
       "std    1.000050e+00  1.000050e+00  1.000050e+00  \n",
       "min   -9.935585e-01 -1.277732e+00 -3.617251e+00  \n",
       "25%   -7.167659e-01 -7.026883e-01 -6.520509e-01  \n",
       "50%   -3.016058e-01 -2.934940e-01 -1.836599e-02  \n",
       "75%    3.767808e-01  3.825188e-01  6.394053e-01  \n",
       "max    9.921014e+00  9.919316e+00  8.956482e+00  "
      ]
     },
     "execution_count": 29,
     "metadata": {},
     "output_type": "execute_result"
    }
   ],
   "source": [
    "std_scale = StandardScaler().fit(first8)\n",
    "df_std = std_scale.transform(first8)\n",
    "\n",
    "Std = pd.DataFrame(data=df_std, columns=[\"A\",\"B\", \"C\",\"D\",\"E\", \"F\", \"G\",\"H\"])\n",
    "\n",
    "Std.describe()"
   ]
  },
  {
   "cell_type": "markdown",
   "metadata": {},
   "source": [
    "#### Détections outliers"
   ]
  },
  {
   "cell_type": "markdown",
   "metadata": {},
   "source": [
    "https://docs.python.org/fr/3/library/functions.html#any"
   ]
  },
  {
   "cell_type": "code",
   "execution_count": 33,
   "metadata": {},
   "outputs": [
    {
     "data": {
      "text/html": [
       "<div>\n",
       "<style scoped>\n",
       "    .dataframe tbody tr th:only-of-type {\n",
       "        vertical-align: middle;\n",
       "    }\n",
       "\n",
       "    .dataframe tbody tr th {\n",
       "        vertical-align: top;\n",
       "    }\n",
       "\n",
       "    .dataframe thead th {\n",
       "        text-align: right;\n",
       "    }\n",
       "</style>\n",
       "<table border=\"1\" class=\"dataframe\">\n",
       "  <thead>\n",
       "    <tr style=\"text-align: right;\">\n",
       "      <th></th>\n",
       "      <th>A</th>\n",
       "      <th>B</th>\n",
       "      <th>C</th>\n",
       "      <th>D</th>\n",
       "      <th>E</th>\n",
       "      <th>F</th>\n",
       "      <th>G</th>\n",
       "      <th>H</th>\n",
       "    </tr>\n",
       "  </thead>\n",
       "  <tbody>\n",
       "    <tr>\n",
       "      <th>0</th>\n",
       "      <td>-1.705604</td>\n",
       "      <td>0.335055</td>\n",
       "      <td>-0.757697</td>\n",
       "      <td>1.401810</td>\n",
       "      <td>-0.497413</td>\n",
       "      <td>-0.468541</td>\n",
       "      <td>-0.278881</td>\n",
       "      <td>-0.182632</td>\n",
       "    </tr>\n",
       "    <tr>\n",
       "      <th>1</th>\n",
       "      <td>0.347189</td>\n",
       "      <td>-1.197014</td>\n",
       "      <td>-0.243009</td>\n",
       "      <td>1.378482</td>\n",
       "      <td>0.079838</td>\n",
       "      <td>-0.844342</td>\n",
       "      <td>-0.687925</td>\n",
       "      <td>-0.512060</td>\n",
       "    </tr>\n",
       "    <tr>\n",
       "      <th>2</th>\n",
       "      <td>-1.611124</td>\n",
       "      <td>-0.793172</td>\n",
       "      <td>-0.180262</td>\n",
       "      <td>1.303760</td>\n",
       "      <td>-0.633404</td>\n",
       "      <td>0.378451</td>\n",
       "      <td>0.265545</td>\n",
       "      <td>-0.036013</td>\n",
       "    </tr>\n",
       "    <tr>\n",
       "      <th>3</th>\n",
       "      <td>0.926150</td>\n",
       "      <td>0.144268</td>\n",
       "      <td>0.832004</td>\n",
       "      <td>1.744931</td>\n",
       "      <td>-0.195310</td>\n",
       "      <td>2.400854</td>\n",
       "      <td>2.271609</td>\n",
       "      <td>0.321958</td>\n",
       "    </tr>\n",
       "    <tr>\n",
       "      <th>4</th>\n",
       "      <td>1.270726</td>\n",
       "      <td>0.949171</td>\n",
       "      <td>-1.711010</td>\n",
       "      <td>1.172544</td>\n",
       "      <td>0.048603</td>\n",
       "      <td>-0.615696</td>\n",
       "      <td>-0.620834</td>\n",
       "      <td>-1.672341</td>\n",
       "    </tr>\n",
       "    <tr>\n",
       "      <th>...</th>\n",
       "      <td>...</td>\n",
       "      <td>...</td>\n",
       "      <td>...</td>\n",
       "      <td>...</td>\n",
       "      <td>...</td>\n",
       "      <td>...</td>\n",
       "      <td>...</td>\n",
       "      <td>...</td>\n",
       "    </tr>\n",
       "    <tr>\n",
       "      <th>9995</th>\n",
       "      <td>-0.429465</td>\n",
       "      <td>-0.230652</td>\n",
       "      <td>-0.215641</td>\n",
       "      <td>-1.258349</td>\n",
       "      <td>0.684266</td>\n",
       "      <td>-0.415253</td>\n",
       "      <td>-0.555153</td>\n",
       "      <td>0.103737</td>\n",
       "    </tr>\n",
       "    <tr>\n",
       "      <th>9996</th>\n",
       "      <td>1.144062</td>\n",
       "      <td>-0.374899</td>\n",
       "      <td>-0.740476</td>\n",
       "      <td>-0.814258</td>\n",
       "      <td>-1.470411</td>\n",
       "      <td>0.464999</td>\n",
       "      <td>0.510946</td>\n",
       "      <td>-1.076380</td>\n",
       "    </tr>\n",
       "    <tr>\n",
       "      <th>9997</th>\n",
       "      <td>0.417713</td>\n",
       "      <td>-0.083953</td>\n",
       "      <td>-1.932163</td>\n",
       "      <td>-0.175763</td>\n",
       "      <td>1.313379</td>\n",
       "      <td>0.592895</td>\n",
       "      <td>0.684148</td>\n",
       "      <td>-1.541737</td>\n",
       "    </tr>\n",
       "    <tr>\n",
       "      <th>9998</th>\n",
       "      <td>0.649297</td>\n",
       "      <td>-0.205909</td>\n",
       "      <td>-1.797667</td>\n",
       "      <td>0.123461</td>\n",
       "      <td>1.956928</td>\n",
       "      <td>-0.522331</td>\n",
       "      <td>-0.411391</td>\n",
       "      <td>-1.907530</td>\n",
       "    </tr>\n",
       "    <tr>\n",
       "      <th>9999</th>\n",
       "      <td>0.704412</td>\n",
       "      <td>-2.824242</td>\n",
       "      <td>0.220646</td>\n",
       "      <td>-1.232938</td>\n",
       "      <td>0.275121</td>\n",
       "      <td>0.267168</td>\n",
       "      <td>0.461950</td>\n",
       "      <td>0.660928</td>\n",
       "    </tr>\n",
       "  </tbody>\n",
       "</table>\n",
       "<p>10000 rows × 8 columns</p>\n",
       "</div>"
      ],
      "text/plain": [
       "             A         B         C         D         E         F         G  \\\n",
       "0    -1.705604  0.335055 -0.757697  1.401810 -0.497413 -0.468541 -0.278881   \n",
       "1     0.347189 -1.197014 -0.243009  1.378482  0.079838 -0.844342 -0.687925   \n",
       "2    -1.611124 -0.793172 -0.180262  1.303760 -0.633404  0.378451  0.265545   \n",
       "3     0.926150  0.144268  0.832004  1.744931 -0.195310  2.400854  2.271609   \n",
       "4     1.270726  0.949171 -1.711010  1.172544  0.048603 -0.615696 -0.620834   \n",
       "...        ...       ...       ...       ...       ...       ...       ...   \n",
       "9995 -0.429465 -0.230652 -0.215641 -1.258349  0.684266 -0.415253 -0.555153   \n",
       "9996  1.144062 -0.374899 -0.740476 -0.814258 -1.470411  0.464999  0.510946   \n",
       "9997  0.417713 -0.083953 -1.932163 -0.175763  1.313379  0.592895  0.684148   \n",
       "9998  0.649297 -0.205909 -1.797667  0.123461  1.956928 -0.522331 -0.411391   \n",
       "9999  0.704412 -2.824242  0.220646 -1.232938  0.275121  0.267168  0.461950   \n",
       "\n",
       "             H  \n",
       "0    -0.182632  \n",
       "1    -0.512060  \n",
       "2    -0.036013  \n",
       "3     0.321958  \n",
       "4    -1.672341  \n",
       "...        ...  \n",
       "9995  0.103737  \n",
       "9996 -1.076380  \n",
       "9997 -1.541737  \n",
       "9998 -1.907530  \n",
       "9999  0.660928  \n",
       "\n",
       "[10000 rows x 8 columns]"
      ]
     },
     "execution_count": 33,
     "metadata": {},
     "output_type": "execute_result"
    }
   ],
   "source": [
    "Std"
   ]
  },
  {
   "cell_type": "code",
   "execution_count": 39,
   "metadata": {},
   "outputs": [
    {
     "data": {
      "text/plain": [
       "0       False\n",
       "1       False\n",
       "2       False\n",
       "3       False\n",
       "4       False\n",
       "        ...  \n",
       "9995    False\n",
       "9996    False\n",
       "9997    False\n",
       "9998    False\n",
       "9999    False\n",
       "Length: 10000, dtype: bool"
      ]
     },
     "execution_count": 39,
     "metadata": {},
     "output_type": "execute_result"
    }
   ],
   "source": [
    "temp = ((Std > 3) | (Std < -3)).any(axis=1)\n",
    "temp"
   ]
  },
  {
   "cell_type": "code",
   "execution_count": 40,
   "metadata": {},
   "outputs": [
    {
     "data": {
      "text/html": [
       "<div>\n",
       "<style scoped>\n",
       "    .dataframe tbody tr th:only-of-type {\n",
       "        vertical-align: middle;\n",
       "    }\n",
       "\n",
       "    .dataframe tbody tr th {\n",
       "        vertical-align: top;\n",
       "    }\n",
       "\n",
       "    .dataframe thead th {\n",
       "        text-align: right;\n",
       "    }\n",
       "</style>\n",
       "<table border=\"1\" class=\"dataframe\">\n",
       "  <thead>\n",
       "    <tr style=\"text-align: right;\">\n",
       "      <th></th>\n",
       "      <th>A</th>\n",
       "      <th>B</th>\n",
       "      <th>C</th>\n",
       "      <th>D</th>\n",
       "      <th>E</th>\n",
       "      <th>F</th>\n",
       "      <th>G</th>\n",
       "      <th>H</th>\n",
       "    </tr>\n",
       "  </thead>\n",
       "  <tbody>\n",
       "    <tr>\n",
       "      <th>10</th>\n",
       "      <td>0.885655</td>\n",
       "      <td>0.668907</td>\n",
       "      <td>-1.129673</td>\n",
       "      <td>1.691449</td>\n",
       "      <td>-0.167330</td>\n",
       "      <td>0.390544</td>\n",
       "      <td>1.820324</td>\n",
       "      <td>7.316370</td>\n",
       "    </tr>\n",
       "    <tr>\n",
       "      <th>11</th>\n",
       "      <td>0.277233</td>\n",
       "      <td>0.270192</td>\n",
       "      <td>-0.519952</td>\n",
       "      <td>1.240781</td>\n",
       "      <td>0.537935</td>\n",
       "      <td>0.246907</td>\n",
       "      <td>1.884423</td>\n",
       "      <td>8.746738</td>\n",
       "    </tr>\n",
       "    <tr>\n",
       "      <th>12</th>\n",
       "      <td>-0.323331</td>\n",
       "      <td>-0.903090</td>\n",
       "      <td>0.970756</td>\n",
       "      <td>-0.035646</td>\n",
       "      <td>0.261651</td>\n",
       "      <td>0.419436</td>\n",
       "      <td>0.857399</td>\n",
       "      <td>8.013820</td>\n",
       "    </tr>\n",
       "    <tr>\n",
       "      <th>13</th>\n",
       "      <td>0.287578</td>\n",
       "      <td>-0.357096</td>\n",
       "      <td>0.160356</td>\n",
       "      <td>1.162010</td>\n",
       "      <td>-0.396348</td>\n",
       "      <td>-0.405207</td>\n",
       "      <td>0.293226</td>\n",
       "      <td>8.813725</td>\n",
       "    </tr>\n",
       "    <tr>\n",
       "      <th>14</th>\n",
       "      <td>1.631569</td>\n",
       "      <td>1.561732</td>\n",
       "      <td>0.127740</td>\n",
       "      <td>1.226043</td>\n",
       "      <td>0.076561</td>\n",
       "      <td>-0.717769</td>\n",
       "      <td>0.394125</td>\n",
       "      <td>8.310824</td>\n",
       "    </tr>\n",
       "    <tr>\n",
       "      <th>...</th>\n",
       "      <td>...</td>\n",
       "      <td>...</td>\n",
       "      <td>...</td>\n",
       "      <td>...</td>\n",
       "      <td>...</td>\n",
       "      <td>...</td>\n",
       "      <td>...</td>\n",
       "      <td>...</td>\n",
       "    </tr>\n",
       "    <tr>\n",
       "      <th>9911</th>\n",
       "      <td>-0.823920</td>\n",
       "      <td>-0.116651</td>\n",
       "      <td>-1.232333</td>\n",
       "      <td>-1.256263</td>\n",
       "      <td>4.692913</td>\n",
       "      <td>0.013129</td>\n",
       "      <td>-0.118591</td>\n",
       "      <td>-1.235037</td>\n",
       "    </tr>\n",
       "    <tr>\n",
       "      <th>9918</th>\n",
       "      <td>-0.031794</td>\n",
       "      <td>-1.421463</td>\n",
       "      <td>-1.599683</td>\n",
       "      <td>-0.500127</td>\n",
       "      <td>3.882075</td>\n",
       "      <td>-0.004624</td>\n",
       "      <td>0.098838</td>\n",
       "      <td>-1.241256</td>\n",
       "    </tr>\n",
       "    <tr>\n",
       "      <th>9961</th>\n",
       "      <td>0.409974</td>\n",
       "      <td>-0.396640</td>\n",
       "      <td>0.132302</td>\n",
       "      <td>-1.170884</td>\n",
       "      <td>-0.325370</td>\n",
       "      <td>4.514636</td>\n",
       "      <td>4.346226</td>\n",
       "      <td>0.063861</td>\n",
       "    </tr>\n",
       "    <tr>\n",
       "      <th>9976</th>\n",
       "      <td>0.285147</td>\n",
       "      <td>-0.056637</td>\n",
       "      <td>1.020042</td>\n",
       "      <td>-1.140550</td>\n",
       "      <td>3.599619</td>\n",
       "      <td>0.117425</td>\n",
       "      <td>0.149589</td>\n",
       "      <td>0.662640</td>\n",
       "    </tr>\n",
       "    <tr>\n",
       "      <th>9978</th>\n",
       "      <td>1.453549</td>\n",
       "      <td>-2.051676</td>\n",
       "      <td>-0.869606</td>\n",
       "      <td>-0.311273</td>\n",
       "      <td>3.723955</td>\n",
       "      <td>0.225905</td>\n",
       "      <td>0.362810</td>\n",
       "      <td>-1.273640</td>\n",
       "    </tr>\n",
       "  </tbody>\n",
       "</table>\n",
       "<p>435 rows × 8 columns</p>\n",
       "</div>"
      ],
      "text/plain": [
       "             A         B         C         D         E         F         G  \\\n",
       "10    0.885655  0.668907 -1.129673  1.691449 -0.167330  0.390544  1.820324   \n",
       "11    0.277233  0.270192 -0.519952  1.240781  0.537935  0.246907  1.884423   \n",
       "12   -0.323331 -0.903090  0.970756 -0.035646  0.261651  0.419436  0.857399   \n",
       "13    0.287578 -0.357096  0.160356  1.162010 -0.396348 -0.405207  0.293226   \n",
       "14    1.631569  1.561732  0.127740  1.226043  0.076561 -0.717769  0.394125   \n",
       "...        ...       ...       ...       ...       ...       ...       ...   \n",
       "9911 -0.823920 -0.116651 -1.232333 -1.256263  4.692913  0.013129 -0.118591   \n",
       "9918 -0.031794 -1.421463 -1.599683 -0.500127  3.882075 -0.004624  0.098838   \n",
       "9961  0.409974 -0.396640  0.132302 -1.170884 -0.325370  4.514636  4.346226   \n",
       "9976  0.285147 -0.056637  1.020042 -1.140550  3.599619  0.117425  0.149589   \n",
       "9978  1.453549 -2.051676 -0.869606 -0.311273  3.723955  0.225905  0.362810   \n",
       "\n",
       "             H  \n",
       "10    7.316370  \n",
       "11    8.746738  \n",
       "12    8.013820  \n",
       "13    8.813725  \n",
       "14    8.310824  \n",
       "...        ...  \n",
       "9911 -1.235037  \n",
       "9918 -1.241256  \n",
       "9961  0.063861  \n",
       "9976  0.662640  \n",
       "9978 -1.273640  \n",
       "\n",
       "[435 rows x 8 columns]"
      ]
     },
     "execution_count": 40,
     "metadata": {},
     "output_type": "execute_result"
    }
   ],
   "source": [
    "Std[temp == True] # on voit les lignes où il y a un outlier"
   ]
  },
  {
   "cell_type": "markdown",
   "metadata": {},
   "source": [
    "Récupérer les valeurs aberrantes de la ligne :"
   ]
  },
  {
   "cell_type": "code",
   "execution_count": 42,
   "metadata": {},
   "outputs": [
    {
     "data": {
      "text/plain": [
       "10      H\n",
       "11      H\n",
       "12      H\n",
       "13      H\n",
       "14      H\n",
       "       ..\n",
       "9911    E\n",
       "9918    E\n",
       "9961    F\n",
       "9976    E\n",
       "9978    E\n",
       "Length: 435, dtype: object"
      ]
     },
     "execution_count": 42,
     "metadata": {},
     "output_type": "execute_result"
    }
   ],
   "source": [
    "Std[temp == True].abs().idxmax(1)"
   ]
  },
  {
   "cell_type": "markdown",
   "metadata": {},
   "source": [
    "Récupérer les colonnes de valeurs aberrantes (s'il n'y en a qu'une par ligne) :"
   ]
  },
  {
   "cell_type": "code",
   "execution_count": 49,
   "metadata": {},
   "outputs": [
    {
     "data": {
      "text/plain": [
       "A   -0.001115\n",
       "B   -0.031362\n",
       "C    0.013886\n",
       "D   -0.000977\n",
       "E    1.305970\n",
       "F    2.016465\n",
       "G    1.984776\n",
       "H    0.663758\n",
       "dtype: float64"
      ]
     },
     "execution_count": 49,
     "metadata": {},
     "output_type": "execute_result"
    }
   ],
   "source": []
  },
  {
   "cell_type": "code",
   "execution_count": 50,
   "metadata": {},
   "outputs": [
    {
     "data": {
      "text/plain": [
       "A   -1.173656\n",
       "B    0.023006\n",
       "C   -0.029607\n",
       "D   -1.266593\n",
       "E    2.293632\n",
       "F    6.039593\n",
       "G    5.914500\n",
       "H    4.721507\n",
       "dtype: float64"
      ]
     },
     "execution_count": 50,
     "metadata": {},
     "output_type": "execute_result"
    }
   ],
   "source": [
    "Std.kurtosis()"
   ]
  },
  {
   "cell_type": "markdown",
   "metadata": {},
   "source": [
    "https://stackoverflow.com/questions/8305199/the-tilde-operator-in-python"
   ]
  },
  {
   "cell_type": "markdown",
   "metadata": {},
   "source": [
    "## Mesures de forme / Measures of shape"
   ]
  },
  {
   "cell_type": "markdown",
   "metadata": {},
   "source": [
    "Skewness et Kurtosis : \n",
    "https://towardsdatascience.com/intro-to-descriptive-statistics-252e9c464ac9"
   ]
  },
  {
   "cell_type": "markdown",
   "metadata": {},
   "source": [
    "* Skewness : symétrie de la distribution\n",
    "* Kurtosis : aplatissement"
   ]
  },
  {
   "cell_type": "markdown",
   "metadata": {},
   "source": [
    "Observez ces mesures de forme sur vos données\n",
    "\n",
    "**Aide**\n",
    "- https://docs.scipy.org/doc/scipy/reference/generated/scipy.stats.skew.html\n",
    "- https://docs.scipy.org/doc/scipy/reference/generated/scipy.stats.kurtosis.html"
   ]
  },
  {
   "cell_type": "markdown",
   "metadata": {},
   "source": [
    "#### Skew"
   ]
  },
  {
   "cell_type": "code",
   "execution_count": 46,
   "metadata": {},
   "outputs": [],
   "source": [
    "from scipy.stats import skew\n",
    "from scipy.stats import norm, kurtosis"
   ]
  },
  {
   "cell_type": "code",
   "execution_count": 51,
   "metadata": {},
   "outputs": [
    {
     "data": {
      "text/plain": [
       "A   -0.001115\n",
       "B   -0.031362\n",
       "C    0.013886\n",
       "D   -0.000977\n",
       "E    1.305970\n",
       "F    2.016465\n",
       "G    1.984776\n",
       "H    0.663758\n",
       "dtype: float64"
      ]
     },
     "execution_count": 51,
     "metadata": {},
     "output_type": "execute_result"
    }
   ],
   "source": [
    "Std.skew()"
   ]
  },
  {
   "cell_type": "markdown",
   "metadata": {},
   "source": [
    "Exemples de ce qu'on peut voir ici :\n",
    "- Les variables A, B, C et H ont un skew proche de 0, elles sont symétriques, on peut le vérifier en regardant les histogrammes\n",
    "- E, F, G et H ont un skew positif plus élevé : la distribution tend vers la gauche ; vers les plus petites valeurs"
   ]
  },
  {
   "cell_type": "markdown",
   "metadata": {},
   "source": [
    "#### Kurtosis"
   ]
  },
  {
   "cell_type": "code",
   "execution_count": 52,
   "metadata": {},
   "outputs": [
    {
     "data": {
      "text/plain": [
       "A   -1.173656\n",
       "B    0.023006\n",
       "C   -0.029607\n",
       "D   -1.266593\n",
       "E    2.293632\n",
       "F    6.039593\n",
       "G    5.914500\n",
       "H    4.721507\n",
       "dtype: float64"
      ]
     },
     "execution_count": 52,
     "metadata": {},
     "output_type": "execute_result"
    }
   ],
   "source": [
    "Std.kurtosis()"
   ]
  },
  {
   "cell_type": "markdown",
   "metadata": {},
   "source": [
    "L'aplatissement mesure si votre ensemble de données est à queue lourde ou à queue légère par rapport à une distribution normale <br/>\n",
    "\n",
    "Exemples de ce qu'on peut voir ici :\n",
    "- F, G et H sont effectivement plus applaties que les autres"
   ]
  },
  {
   "cell_type": "markdown",
   "metadata": {},
   "source": [
    "# Statistiques multivariées"
   ]
  },
  {
   "cell_type": "markdown",
   "metadata": {},
   "source": [
    "On va maintenant observer les données en croisant les variables entre elles !"
   ]
  },
  {
   "cell_type": "markdown",
   "metadata": {},
   "source": [
    "## Correlations"
   ]
  },
  {
   "cell_type": "markdown",
   "metadata": {},
   "source": [
    "https://en.wikipedia.org/wiki/Correlation"
   ]
  },
  {
   "cell_type": "markdown",
   "metadata": {},
   "source": [
    "Quelques notions pour commencer :\n",
    "- Covariance = quantification de la variation d'une variable par rapport à une autre (elle caractérise les variations simultanées des deux variables) \n",
    "- Correlation = covariance normalisée\n",
    "- coefficient de corrélation linéaire entre 2 variables = quotient de leur covariance par le produit de leurs écarts types\n",
    "- La valeur absolue du coefficient de correlation, toujours comprise entre 0 et 1, ne mesure pas l’intensité de la liaison mais la prépondérance de la relation affine sur les variations internes des variables. \n",
    "- Un coefficient nul n’implique pas indépendance, car d’autres types de corrélation sont possibles.\n",
    "- Le fait que deux variables soient « fortement corrélées » ne démontre pas qu'il y ait une relation de causalité entre l'une et l'autre. Le contre-exemple le plus typique est celui où elles sont en fait liées par une causalité commune. \n",
    "\n",
    "**En bref :**\n",
    "- Corrélation ne signifie pas causalité\n",
    "- La corrélation (de Pearson) ne mesure que la tendance linéaire"
   ]
  },
  {
   "cell_type": "code",
   "execution_count": 53,
   "metadata": {},
   "outputs": [
    {
     "data": {
      "text/html": [
       "<img src=\"https://upload.wikimedia.org/wikipedia/commons/thumb/d/d4/Correlation_examples2.svg/1000px-Correlation_examples2.svg.png\" width=\"500\"/>"
      ],
      "text/plain": [
       "<IPython.core.display.Image object>"
      ]
     },
     "execution_count": 53,
     "metadata": {},
     "output_type": "execute_result"
    }
   ],
   "source": [
    "url = 'https://upload.wikimedia.org/wikipedia/commons/thumb/d/d4/Correlation_examples2.svg/1000px-Correlation_examples2.svg.png'\n",
    "Image(url = url, width=500)"
   ]
  },
  {
   "cell_type": "markdown",
   "metadata": {},
   "source": [
    "Plusieurs ensembles de points (x, y), avec le coefficient de corrélation de Pearson de x et y pour chaque ensemble. La corrélation reflète le bruit et la direction d'une relation linéaire (rangée du haut), mais pas la pente de cette relation (au milieu), ni de nombreux aspects des relations non linéaires (en bas). N.B. : le chiffre du centre a une pente de 0 mais dans ce cas le coefficient de corrélation est indéfini car la variance de Y est nulle."
   ]
  },
  {
   "cell_type": "code",
   "execution_count": 54,
   "metadata": {
    "scrolled": true
   },
   "outputs": [
    {
     "data": {
      "text/html": [
       "<img src=\"https://upload.wikimedia.org/wikipedia/commons/thumb/e/ec/Anscombe%27s_quartet_3.svg/1000px-Anscombe%27s_quartet_3.svg.png\" width=\"500\"/>"
      ],
      "text/plain": [
       "<IPython.core.display.Image object>"
      ]
     },
     "execution_count": 54,
     "metadata": {},
     "output_type": "execute_result"
    }
   ],
   "source": [
    "url = 'https://upload.wikimedia.org/wikipedia/commons/thumb/e/ec/Anscombe%27s_quartet_3.svg/1000px-Anscombe%27s_quartet_3.svg.png'\n",
    "Image(url = url, width=500)"
   ]
  },
  {
   "cell_type": "markdown",
   "metadata": {},
   "source": [
    "Quatre ensembles de données avec la même corrélation de 0,816"
   ]
  },
  {
   "cell_type": "markdown",
   "metadata": {},
   "source": [
    "**TODO**\n",
    "\n",
    "1. Calculer les corrélations entre les colonnes 2 à 2 : afficher le résultat sur une 'heatmap'\n",
    "3. A votre avis: comment la correlation va-t-elle être impactée par la standardisation ? Vérifiez sur le dataset.\n",
    "4. Si deux variables sont fortement correlées, toute nouvelle feature correlée à l'une sera-t-elle forcément correlée à l'autre ?\n",
    "\n",
    "**Aide:**  \n",
    "- la librairie 'seaborn' permet de créer très facilement de belles 'heatmap' : https://seaborn.pydata.org/generated/seaborn.heatmap.html"
   ]
  },
  {
   "cell_type": "markdown",
   "metadata": {},
   "source": [
    "#### Corrélations entre les colonnes 2 à 2 / Afficher le résultat sur une 'heatmap'"
   ]
  },
  {
   "cell_type": "code",
   "execution_count": 72,
   "metadata": {
    "scrolled": false
   },
   "outputs": [
    {
     "data": {
      "image/png": "[encoded data removed]",
      "text/plain": [
       "<Figure size 640x480 with 2 Axes>"
      ]
     },
     "metadata": {},
     "output_type": "display_data"
    }
   ],
   "source": [
    "import seaborn as sns\n",
    "\n",
    "col2 = df.iloc[:,:2]\n",
    "mat_cor = col2.corr()\n",
    "\n",
    "plt_show = plt.imshow(mat_cor, cmap = \"seismic\")\n",
    "\n",
    "plt.colorbar()\n",
    "plt.show()"
   ]
  },
  {
   "cell_type": "markdown",
   "metadata": {},
   "source": [
    "Exemples de ce qu'on peut voir ici :\n",
    "- C et H sont très corrélées positivement, donc liées entre elles\n",
    "=> C'est à dire que quand l'une va grandir, l'autre va grandir aussi\n",
    "- F et G également\n",
    "- => à l'inverse si on avait eu des corrélations négatives (en bleu foncé), plus l'une des variables grandit, plus l'autre diminue"
   ]
  },
  {
   "cell_type": "code",
   "execution_count": 73,
   "metadata": {},
   "outputs": [
    {
     "data": {
      "text/plain": [
       "<Axes: >"
      ]
     },
     "execution_count": 73,
     "metadata": {},
     "output_type": "execute_result"
    },
    {
     "data": {
      "image/png": "[encoded data removed]",
      "text/plain": [
       "<Figure size 640x480 with 2 Axes>"
      ]
     },
     "metadata": {},
     "output_type": "display_data"
    }
   ],
   "source": [
    "sns.heatmap(col2.corr(), annot=True)"
   ]
  },
  {
   "cell_type": "markdown",
   "metadata": {},
   "source": [
    "#### A votre avis: comment la correlation va-t-elle être impactée par la standardisation ? Vérifiez sur le dataset."
   ]
  },
  {
   "cell_type": "markdown",
   "metadata": {},
   "source": [
    "Non : à montrer"
   ]
  },
  {
   "cell_type": "markdown",
   "metadata": {},
   "source": [
    "#### Si deux variables sont fortement correlées, toute nouvelle feature correlée à l'une sera-t-elle forcément correlée à l'autre ?"
   ]
  },
  {
   "cell_type": "markdown",
   "metadata": {},
   "source": [
    "Oui : pourquoi ?\n",
    "\n",
    "Y corrélé à X ~ Y = alpha x X + espilon (avec espilon proche de zero)<br/>\n",
    "Z corrélé à X ~ Z = beta x X + nu (avec nu proche de zero)<br/>\n",
    "et donc :<br/>\n",
    "Y = (alpha/beta)Z - ((alpha/beta)*nu+espilon)<br/>"
   ]
  },
  {
   "cell_type": "markdown",
   "metadata": {},
   "source": [
    "## With qualitatives data"
   ]
  },
  {
   "cell_type": "markdown",
   "metadata": {},
   "source": [
    "Vpus pourrez constater que les variables qualitatives n'étant pas numériques, il est plus délicat de les analyser : on ne peut pas observer la moyenne, la médiane, voir s'il y a des corrélations,... <br/>\n",
    "Afin de faciliter leur analyse, leur intégration dans nos modèles par la suite, il est possible de les transformer en variables quantitatives :\n",
    "* https://pandas.pydata.org/pandas-docs/stable/reference/api/pandas.get_dummies.html\n",
    "* https://pandas.pydata.org/docs/reference/api/pandas.Series.map.html"
   ]
  },
  {
   "cell_type": "markdown",
   "metadata": {},
   "source": [
    "**TODO**\n",
    "\n",
    "1. Tester le module describe sur les données qualitative\n",
    "2. Tranformer les variables qualitatives\n",
    "3. Chercher les dépendances entre les colonnes qualitatives et les autres colonnes\n",
    "\n",
    "**Aide :**\n",
    "    \n",
    "- pour fixer le type d'une variable, vous pouvez utiliser la méthode .astype()\n",
    "- pour grouper selon la variable qualitative étudiée, vous pouvez utiliser 'groupby'"
   ]
  },
  {
   "cell_type": "code",
   "execution_count": null,
   "metadata": {},
   "outputs": [],
   "source": []
  },
  {
   "cell_type": "markdown",
   "metadata": {},
   "source": [
    "Transforming qualitative variables in quantitative variables with the methods map or get_dummies.\n",
    "* https://pandas.pydata.org/pandas-docs/stable/reference/api/pandas.get_dummies.html\n",
    "* https://pandas.pydata.org/docs/reference/api/pandas.Series.map.html"
   ]
  },
  {
   "cell_type": "code",
   "execution_count": null,
   "metadata": {},
   "outputs": [],
   "source": []
  },
  {
   "cell_type": "code",
   "execution_count": null,
   "metadata": {},
   "outputs": [],
   "source": []
  },
  {
   "cell_type": "code",
   "execution_count": null,
   "metadata": {},
   "outputs": [],
   "source": []
  },
  {
   "cell_type": "code",
   "execution_count": null,
   "metadata": {},
   "outputs": [],
   "source": []
  }
 ],
 "metadata": {
  "extensions": {
   "jupyter_dashboards": {
    "activeView": "report_default",
    "version": 1,
    "views": {
     "grid_default": {
      "cellMargin": 10,
      "defaultCellHeight": 20,
      "maxColumns": 12,
      "name": "grid",
      "type": "grid"
     },
     "report_default": {
      "name": "report",
      "type": "report"
     }
    }
   }
  },
  "kernelspec": {
   "display_name": "Python 3 (ipykernel)",
   "language": "python",
   "name": "python3"
  },
  "language_info": {
   "codemirror_mode": {
    "name": "ipython",
    "version": 3
   },
   "file_extension": ".py",
   "mimetype": "text/x-python",
   "name": "python",
   "nbconvert_exporter": "python",
   "pygments_lexer": "ipython3",
   "version": "3.11.5"
  },
  "toc": {
   "base_numbering": 1,
   "nav_menu": {},
   "number_sections": true,
   "sideBar": true,
   "skip_h1_title": false,
   "title_cell": "Table of Contents",
   "title_sidebar": "Contents",
   "toc_cell": false,
   "toc_position": {
    "height": "calc(100% - 180px)",
    "left": "10px",
    "top": "150px",
    "width": "303.812px"
   },
   "toc_section_display": true,
   "toc_window_display": true
  },
  "varInspector": {
   "cols": {
    "lenName": 16,
    "lenType": 16,
    "lenVar": 40
   },
   "kernels_config": {
    "python": {
     "delete_cmd_postfix": "",
     "delete_cmd_prefix": "del ",
     "library": "var_list.py",
     "varRefreshCmd": "print(var_dic_list())"
    },
    "r": {
     "delete_cmd_postfix": ") ",
     "delete_cmd_prefix": "rm(",
     "library": "var_list.r",
     "varRefreshCmd": "cat(var_dic_list()) "
    }
   },
   "types_to_exclude": [
    "module",
    "function",
    "builtin_function_or_method",
    "instance",
    "_Feature"
   ],
   "window_display": false
  }
 },
 "nbformat": 4,
 "nbformat_minor": 4
}
