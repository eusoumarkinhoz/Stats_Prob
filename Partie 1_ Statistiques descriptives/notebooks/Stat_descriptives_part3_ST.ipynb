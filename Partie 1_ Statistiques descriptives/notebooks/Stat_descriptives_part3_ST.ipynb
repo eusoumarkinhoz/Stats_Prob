{
 "cells": [
  {
   "cell_type": "markdown",
   "metadata": {
    "extensions": {
     "jupyter_dashboards": {
      "version": 1,
      "views": {
       "grid_default": {
        "col": 0,
        "height": 4,
        "hidden": false,
        "row": 0,
        "width": 4
       },
       "report_default": {
        "hidden": false
       }
      }
     }
    }
   },
   "source": [
    "**DATA8 - Statistics for Machine Learning - part 3**"
   ]
  },
  {
   "cell_type": "markdown",
   "metadata": {},
   "source": [
    "**Une timeserie, c'est quoi ?**\n",
    "Tout simplement, un dataset dont les valeurs sont mesurées à différents points dans le temps.\n",
    "Comme il s’agit d’évaluer l’évolution d’un phénomène au cours du temps, l’ordre est ici très important.\n",
    "\n",
    "**Pourquoi une partie dédiée aux séries temporelles ?**\n",
    "- Elles sont présentes dans de nombreux domaines d’application\n",
    "- Elles permettent de comprendre les tendances passées / d'estimer les comportements futurs\n",
    "- Pandas offre tout un panel d'outils qui simplifient énormément la manipulation de séries temporelles\n",
    "\n",
    "**Ressources:**\n",
    "- https://pandas.pydata.org/pandas-docs/stable/user_guide/timeseries.html\n",
    "- https://jakevdp.github.io/PythonDataScienceHandbook/03.11-working-with-time-series.html\n",
    "- https://pandas.pydata.org/pandas-docs/version/0.23.4/generated/pandas.DatetimeIndex.html"
   ]
  },
  {
   "cell_type": "markdown",
   "metadata": {},
   "source": [
    "**Ce que vous verrez aujourd'hui : travailler avec**\n",
    "1. Basics of timeseries with Pandas\n",
    "2. Identifying Patterns in Time Series: Trend, seasonality, noise\n",
    "3. Autocorrelation\n",
    "4. Spectral analsis (fft)"
   ]
  },
  {
   "cell_type": "code",
   "execution_count": 1,
   "metadata": {},
   "outputs": [],
   "source": [
    "from IPython.display import Image\n",
    "Image('IMG/xkcd_extrapolating.png', width=400)"
   ]
  },
  {
   "cell_type": "code",
   "execution_count": 2,
   "metadata": {},
   "outputs": [],
   "source": [
    "import pandas as pd\n",
    "import seaborn as sns"
   ]
  },
  {
   "cell_type": "code",
   "execution_count": 3,
   "metadata": {},
   "outputs": [],
   "source": [
    "from matplotlib import rcParams\n",
    "rcParams['figure.figsize'] = 15, 3"
   ]
  },
  {
   "cell_type": "markdown",
   "metadata": {},
   "source": [
    "# Working with timestamps"
   ]
  },
  {
   "cell_type": "markdown",
   "metadata": {},
   "source": [
    "**TODO**\n",
    "        \n",
    "- Charger les données précédentes.  \n",
    "- Se familiariser avec les outils de Pandas dédiés à la manipulation des dates:\n",
    "    - https://pandas.pydata.org/pandas-docs/stable/user_guide/timeseries.html\n",
    "    - les méthodes: to_datetime, date_range, period_range, timedelta_range, min, max, shift, resample, rolling, ...\n",
    "    - la gestion des timezone: tz_localize, tz_convert\n",
    "    - les offsets"
   ]
  },
  {
   "cell_type": "markdown",
   "metadata": {},
   "source": [
    "## Charger les données"
   ]
  },
  {
   "cell_type": "markdown",
   "metadata": {},
   "source": [
    "## Convertir des dates en Timestamps"
   ]
  },
  {
   "cell_type": "markdown",
   "metadata": {},
   "source": [
    "## La classe DatetimeIndex"
   ]
  },
  {
   "cell_type": "markdown",
   "metadata": {},
   "source": [
    "https://pandas.pydata.org/pandas-docs/version/0.23.4/generated/pandas.DatetimeIndex.html"
   ]
  },
  {
   "cell_type": "markdown",
   "metadata": {},
   "source": [
    "## Interpolation"
   ]
  },
  {
   "cell_type": "markdown",
   "metadata": {},
   "source": [
    "**TODO**\n",
    "\n",
    "- Les données de consommation sont fournies toutes les 30 minutes, alors que celles en J-1 sont fournies tous les 1/4 d'heures. Utiliser les différentes fonction d'interpolation offertes par Pandas et ploter le résultat.\n",
    "\n",
    "https://pandas.pydata.org/pandas-docs/stable/reference/api/pandas.DataFrame.interpolate.html <br/>\n",
    "https://www.analyticsvidhya.com/blog/2021/06/power-of-interpolation-in-python-to-fill-missing-values/#:~:text=Interpolation%20is%20mostly%20used%20while,the%20mean%20of%20the%20month"
   ]
  },
  {
   "cell_type": "markdown",
   "metadata": {
    "extensions": {
     "jupyter_dashboards": {
      "version": 1,
      "views": {
       "grid_default": {
        "col": 0,
        "height": 4,
        "hidden": false,
        "row": 8,
        "width": 4
       },
       "report_default": {
        "hidden": false
       }
      }
     }
    }
   },
   "source": [
    "# Identifying paterns in the timeserie"
   ]
  },
  {
   "cell_type": "markdown",
   "metadata": {},
   "source": [
    "## Trend, saisonality"
   ]
  },
  {
   "cell_type": "markdown",
   "metadata": {},
   "source": [
    "Série temporelle = Tendance + Saisonnalité(s) + Bruit  <br/>\n",
    "- Tendance: variations à long terme (tendance nulle = série stationnaire)\n",
    "- Saisonnalité: variations périodiques\n",
    "- Bruit: tendance nulle\n",
    "\n",
    "On cherche ici à extraire la structure du signal, pour, par exemple:\n",
    "- supprimer la partie bruitage, les erreurs de mesure ou les fluctuations non explicables\n",
    "- supprimer des variations saisonnières pour évaluer des tendances\n",
    "- projeter un comportement dans le futur\n",
    "- ...\n",
    "\n",
    "**Ressources:**\n",
    "- un cours théorique: https://perso.math.univ-toulouse.fr/jydauxoi/files/2017/04/poly_eleves.pdf"
   ]
  },
  {
   "cell_type": "markdown",
   "metadata": {},
   "source": [
    "**TODO**\n",
    "        \n",
    "- Observer la courbe de consommation : quelle(s) composante(s) semblent saisonnières ? Quelle tendance ?\n",
    "- Faire de même avec les sources de production solaire et éolienne.\n",
    "- Faire apparaitre clairement ces \"patterns\" en utilisant la méthode \"rolling\" de Pandas.\n",
    "- Comparer les méthodes 'rolling' et 'resample'\n",
    "\n",
    "https://pandas.pydata.org/docs/reference/api/pandas.DataFrame.rolling.html<br/>\n",
    "https://pandas.pydata.org/pandas-docs/stable/reference/api/pandas.DataFrame.resample.html\n",
    "\n",
    "https://towardsdatascience.com/time-series-analysis-resampling-shifting-and-rolling-f5664ddef77e"
   ]
  },
  {
   "cell_type": "markdown",
   "metadata": {},
   "source": [
    "# Auto-correlation"
   ]
  },
  {
   "cell_type": "markdown",
   "metadata": {},
   "source": [
    "https://en.wikipedia.org/wiki/Autocorrelation\n",
    "\n",
    "Une série chronologique est une série de points de données indexés dans le temps. Le fait que les données de séries chronologiques soient ordonnées les rend uniques dans l'espace de données car elles affichent souvent une dépendance sérielle. La dépendance en série se produit lorsque la valeur d'un point de données à un moment donné dépend statistiquement d'un autre point de données à un autre moment. Cependant, cet attribut des données de séries chronologiques viole l'une des hypothèses fondamentales de nombreuses analyses statistiques - que les données sont statistiquement indépendantes.\n",
    "\n",
    "L'autocorrélation est un type de dépendance en série. Plus précisément, l'autocorrélation se produit lorsqu'une série chronologique est liée de manière linéaire à une version décalée d'elle-même. En revanche, la corrélation est simplement lorsque deux variables indépendantes sont liées linéairement."
   ]
  },
  {
   "cell_type": "markdown",
   "metadata": {},
   "source": [
    "**TODO**\n",
    "        \n",
    "- Retrouver la cyclicité de la consommation en calculant la corrélation de la courbe de consommation avec une version décalée d'elle même. \n",
    "\n",
    "**Bonus**:\n",
    "- Etudier les corrélations entre le prix et la consommation avec différent décalages temporelles, en été et en hiver, sur les courbes avant et après adaptation de la time zone. Interpréter."
   ]
  },
  {
   "cell_type": "markdown",
   "metadata": {},
   "source": [
    "# Etude fréquentielle"
   ]
  },
  {
   "cell_type": "markdown",
   "metadata": {},
   "source": [
    "**Note:** <br/>\n",
    "Cette étude fréquentielle n'est pas propre aux séries temporelles : on peut par exemple chercher des fréquences (motifs) dans une image.\n",
    "\n",
    "\n",
    "**TODO**\n",
    "        \n",
    "- Quelles fréquences ressortent de la courbe de consommation ? A quoi correspondent-elles ?\n",
    "- Tracer le signal obtenu en ne gardant que ces fréquences caractéristiques ? A quel point suffisent-elles pour décrire les variations du signal ?\n",
    "- Que représentent les hautes fréquences ? Couper les fréquences supérieures à certaines fréquences caractéristiques puis tracer les signaux obtenus.\n",
    "\n",
    "https://ipython-books.github.io/101-analyzing-the-frequency-components-of-a-signal-with-a-fast-fourier-transform/"
   ]
  },
  {
   "cell_type": "markdown",
   "metadata": {},
   "source": [
    "# Questions bonus"
   ]
  },
  {
   "cell_type": "markdown",
   "metadata": {},
   "source": [
    "**TODO**\n",
    "\n",
    "- Tracer les consommations des différentes années les une sur les autres\n",
    "- Tracer toutes les consommations journalières les unes sur les autres, pour faire apparaitre des différences de comportement entre : jours de semaine et weekend, jours d'été et d'hiver"
   ]
  },
  {
   "cell_type": "markdown",
   "metadata": {},
   "source": [
    "# Bonus : suite"
   ]
  },
  {
   "cell_type": "markdown",
   "metadata": {},
   "source": [
    "**TODO**\n",
    "        \n",
    "- Comment estimer très simplement la consommation du lendemain ? quelle erreur commet-on ?\n",
    "- Estimer le taux de production solaire + éolienne dans les années à venir\n",
    "- Y a-t-il une saisonnalité dans les moyens de productions ?\n",
    "- Y-a-il une saisonnalité dans les échanges commerciaux entre la France et ses voisins ?\n",
    "- quelles types de centrale permettent des changements de production rapides ?"
   ]
  }
 ],
 "metadata": {
  "extensions": {
   "jupyter_dashboards": {
    "activeView": "report_default",
    "version": 1,
    "views": {
     "grid_default": {
      "cellMargin": 10,
      "defaultCellHeight": 20,
      "maxColumns": 12,
      "name": "grid",
      "type": "grid"
     },
     "report_default": {
      "name": "report",
      "type": "report"
     }
    }
   }
  },
  "kernelspec": {
   "display_name": "Python 3",
   "language": "python",
   "name": "python3"
  },
  "language_info": {
   "codemirror_mode": {
    "name": "ipython",
    "version": 3
   },
   "file_extension": ".py",
   "mimetype": "text/x-python",
   "name": "python",
   "nbconvert_exporter": "python",
   "pygments_lexer": "ipython3",
   "version": "3.8.5"
  },
  "toc": {
   "base_numbering": 1,
   "nav_menu": {},
   "number_sections": true,
   "sideBar": true,
   "skip_h1_title": false,
   "title_cell": "Table of Contents",
   "title_sidebar": "Contents",
   "toc_cell": false,
   "toc_position": {
    "height": "calc(100% - 180px)",
    "left": "10px",
    "top": "150px",
    "width": "384px"
   },
   "toc_section_display": true,
   "toc_window_display": true
  },
  "varInspector": {
   "cols": {
    "lenName": 16,
    "lenType": 16,
    "lenVar": 40
   },
   "kernels_config": {
    "python": {
     "delete_cmd_postfix": "",
     "delete_cmd_prefix": "del ",
     "library": "var_list.py",
     "varRefreshCmd": "print(var_dic_list())"
    },
    "r": {
     "delete_cmd_postfix": ") ",
     "delete_cmd_prefix": "rm(",
     "library": "var_list.r",
     "varRefreshCmd": "cat(var_dic_list()) "
    }
   },
   "types_to_exclude": [
    "module",
    "function",
    "builtin_function_or_method",
    "instance",
    "_Feature"
   ],
   "window_display": false
  }
 },
 "nbformat": 4,
 "nbformat_minor": 4
}
